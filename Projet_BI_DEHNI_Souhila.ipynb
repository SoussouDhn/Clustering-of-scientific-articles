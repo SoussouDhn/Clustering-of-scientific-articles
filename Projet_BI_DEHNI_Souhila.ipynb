{
  "nbformat": 4,
  "nbformat_minor": 0,
  "metadata": {
    "colab": {
      "name": "Projet_BI_DEHNI_Souhila",
      "provenance": [],
      "collapsed_sections": [],
      "toc_visible": true
    },
    "kernelspec": {
      "display_name": "Python 3",
      "name": "python3"
    }
  },
  "cells": [
    {
      "cell_type": "markdown",
      "metadata": {
        "id": "jXJtxjvxTcWS"
      },
      "source": [
        "# Partie 1:"
      ]
    },
    {
      "cell_type": "markdown",
      "metadata": {
        "id": "UTGwXmRBg_y9"
      },
      "source": [
        "**Télécharger le jeu de données**"
      ]
    },
    {
      "cell_type": "code",
      "metadata": {
        "colab": {
          "base_uri": "https://localhost:8080/"
        },
        "id": "jUmqpjxErFD3",
        "outputId": "6bdddbed-4a0c-4659-b562-6ec81c796c13"
      },
      "source": [
        "import pandas as pd\n",
        "import re\n",
        "#Charger le fichier texte sous python\n",
        "my_file = open(\"/content/drive/My Drive/Colab Notebooks/DBLP_Subset.txt\", \"r\")\n",
        "content = my_file.read()\n",
        "content_list = content.split(\"#*\")\n",
        "matrice=pd.DataFrame(columns=['Title','Authors','Year','Publication venue','ID','id_reference','Abstract','NbrAuthor','NbrCitations'])\n",
        "\n",
        "#Réaliser les traitements de données afin d’extraire les informations séparément sous forme d’un dataframe.\n",
        "for i in range(30000) :\n",
        "  temp=list()\n",
        "  temp=re.split('\\n#@|\\n#t|\\n#c|\\n#index|\\n#!',content_list[i+1])\n",
        "  if((len(temp)==6) ):\n",
        "    tmp=temp[4].split(\"\\n#%\")\n",
        "    id_reference  =tmp[1:]\n",
        "    temp[4]=tmp[0]\n",
        "    ref = ','.join([str(item) for item in id_reference])    \n",
        "    matrice.loc[i, 'Title'] =temp[0]\n",
        "    matrice.loc[i, 'Authors'] =temp[1].replace('\\n', ',')\n",
        "    matrice.loc[i, 'Year'] =temp[2]\n",
        "    matrice.loc[i, 'Publication venue'] =temp[3]\n",
        "    matrice.loc[i, 'ID'] =temp[4]\n",
        "    if (ref != ''):\n",
        "      matrice.loc[i, 'id_reference'] =ref  \n",
        "    matrice.loc[i, 'Abstract'] =temp[5]\n",
        "matrice.reset_index(drop=True, inplace=True)\n",
        "matrice.shape\n"
      ],
      "execution_count": null,
      "outputs": [
        {
          "output_type": "stream",
          "text": [
            "print 111 The Use of Anaphoric Resolution for Document Description in Information Retrieval.\n",
            "#@Susan Bonzi,Elizabeth D. Liddy\n",
            "#t1988\n",
            "#cSIGIR\n",
            "#index594584\n",
            "#%2025\n",
            "#%595464\n",
            "#!This study investigated two hypotheses concerning the use of anaphors in information retrieval. The first hypothesis, that anaphors tend to refer to integral concepts rather than to peripheral concepts, was well supported. Two samples of documents, one in psychology and the other in computer science, were examined by subject experts who judged the centrality of phrases which were referred to anaphorically. The second hypothesis, that various term weighting schemes are affected differently by anaphoric resolution, was also well supported. It was found that schemes which incorporate document length into the calculations produce much smaller increases in term weights for terms occurring in anaphoric resolutions than do those which do not consider document length. It is concluded that although anaphoric resolution has potential for better representing the &ldquo;aboutness&rdquo; of a document, care must be taken in choosing both the anaphoric classes to be resolved and the term weighting schemes to be used in measuring a document's topicality.\n",
            "\n",
            "\n"
          ],
          "name": "stdout"
        },
        {
          "output_type": "execute_result",
          "data": {
            "text/plain": [
              "(13989, 9)"
            ]
          },
          "metadata": {
            "tags": []
          },
          "execution_count": 62
        }
      ]
    },
    {
      "cell_type": "markdown",
      "metadata": {
        "id": "jmKUdh6xhMLE"
      },
      "source": [
        "**Sélectionner les trois ‘Venues’ suivante SIGIR, SIGMOD et STOC.** \n",
        "**Limiter le nombre de document** "
      ]
    },
    {
      "cell_type": "code",
      "metadata": {
        "colab": {
          "base_uri": "https://localhost:8080/"
        },
        "id": "05gezkq5QWn8",
        "outputId": "d11a3560-47e5-4539-a747-7d1e11f4ba7e"
      },
      "source": [
        "matrice_SIGIR = matrice.loc[matrice['Publication venue'].isin(['SIGIR'])].head(200)\n",
        "print(matrice_SIGIR.shape)\n",
        "matrice_SIGIR.reset_index(drop=True, inplace=True)\n",
        "matrice_SIGMOD = matrice.loc[matrice['Publication venue'].isin(['SIGMOD Conference'])].head(200)\n",
        "print(matrice_SIGMOD.shape)\n",
        "matrice_SIGMOD.reset_index(drop=True, inplace=True)\n",
        "matrice_STOC = matrice.loc[matrice['Publication venue'].isin(['STOC'])].head(200)\n",
        "print(matrice_STOC.shape)\n",
        "matrice_STOC.reset_index(drop=True, inplace=True)\n",
        "# concaténer les trois types de revues\n",
        "pdList = [matrice_SIGIR, matrice_SIGMOD, matrice_STOC]  # List of your dataframes\n",
        "matrice = pd.concat(pdList)\n",
        "matrice.reset_index(drop=True, inplace=True)"
      ],
      "execution_count": null,
      "outputs": [
        {
          "output_type": "stream",
          "text": [
            "(200, 9)\n",
            "(200, 9)\n",
            "(200, 9)\n",
            "                                                 Title  ... NbrCitations\n",
            "0    Formal models for expert finding in enterprise...  ...          NaN\n",
            "1    Latent Semantic Indexing is an Optimal Special...  ...          NaN\n",
            "2    Latent semantic-space: iterative scaling impro...  ...          NaN\n",
            "3    Planning in an Expert System for Automated Inf...  ...          NaN\n",
            "4    Discovering and structuring information flow a...  ...          NaN\n",
            "..                                                 ...  ...          ...\n",
            "595         Linear Time Bounds for Median Computations  ...          NaN\n",
            "596      Linear Approximation of Shortest Superstrings  ...          NaN\n",
            "597                  Fast quantum byzantine agreement.  ...          NaN\n",
            "598           Designing Programs That Check Their Work  ...          NaN\n",
            "599  Byzantine agreement in the full-information mo...  ...          NaN\n",
            "\n",
            "[600 rows x 9 columns]\n"
          ],
          "name": "stdout"
        }
      ]
    },
    {
      "cell_type": "code",
      "metadata": {
        "colab": {
          "base_uri": "https://localhost:8080/"
        },
        "id": "RFujbGYP_Y9q",
        "outputId": "a4f4df49-62c6-4d96-db95-7238e7fbc79b"
      },
      "source": [
        "matrice.count()"
      ],
      "execution_count": null,
      "outputs": [
        {
          "output_type": "execute_result",
          "data": {
            "text/plain": [
              "Title                600\n",
              "Authors              600\n",
              "Year                 600\n",
              "Publication venue    600\n",
              "ID                   600\n",
              "id_reference         559\n",
              "Abstract             600\n",
              "NbrAuthor              0\n",
              "NbrCitations           0\n",
              "dtype: int64"
            ]
          },
          "metadata": {
            "tags": []
          },
          "execution_count": 64
        }
      ]
    },
    {
      "cell_type": "code",
      "metadata": {
        "colab": {
          "base_uri": "https://localhost:8080/"
        },
        "id": "H3iY_KrSqmid",
        "outputId": "f5df65ba-1578-44e4-e1da-3eb9bfd267cc"
      },
      "source": [
        "from nltk.corpus import stopwords # Pour les mots comme le...\n",
        "from textblob import Word\n",
        "from sklearn.feature_extraction.text import CountVectorizer \n",
        "from wordcloud import WordCloud, STOPWORDS\n",
        "import matplotlib\n",
        "import nltk\n",
        "nltk.download('stopwords')\n",
        "import pandas as pd\n",
        "nltk.download('wordnet')\n",
        "import numpy as np \n",
        "from nltk.stem import WordNetLemmatizer \n",
        "import nltk\n",
        "nltk.download('punkt')"
      ],
      "execution_count": null,
      "outputs": [
        {
          "output_type": "stream",
          "text": [
            "[nltk_data] Downloading package stopwords to /root/nltk_data...\n",
            "[nltk_data]   Package stopwords is already up-to-date!\n",
            "[nltk_data] Downloading package wordnet to /root/nltk_data...\n",
            "[nltk_data]   Package wordnet is already up-to-date!\n",
            "[nltk_data] Downloading package punkt to /root/nltk_data...\n",
            "[nltk_data]   Package punkt is already up-to-date!\n"
          ],
          "name": "stdout"
        },
        {
          "output_type": "execute_result",
          "data": {
            "text/plain": [
              "True"
            ]
          },
          "metadata": {
            "tags": []
          },
          "execution_count": 65
        }
      ]
    },
    {
      "cell_type": "code",
      "metadata": {
        "colab": {
          "base_uri": "https://localhost:8080/"
        },
        "id": "kvSVQ6H-tUJy",
        "outputId": "7da0210b-f625-4033-f343-1bece25fcad1"
      },
      "source": [
        "# préptraitement des termes de l'abstract\n",
        "stop=stopwords.words('french')+ stopwords.words('english')+[\"présentons\", \"présente\", \"résultats\",\"comme\",\"dune\", 'dun', 'afin','entre', 'article','ainsi','partir', 'plus','très', 'approche','méthodes', 'méthode','données', 'proposons','permet' ,'deux']\n",
        "stop=np.unique(stop).tolist()\n",
        "matrice=matrice.dropna(subset=['Abstract']) # enlever les NA  ( supprimer les articles sans abstract )\n",
        "matrice['Abstract']=matrice['Abstract'].apply(lambda x:\" \".join(x.lower() for x in x.split()))\n",
        "print(matrice.loc[3, 'Title'])\n",
        "matrice['Abstract']=matrice['Abstract'].str.replace('[^\\w\\s\\n\\d\"]',' ') # suppression de caractère spéciaux \n",
        "matrice['Abstract']=matrice['Abstract'].str.replace('[\\d]',' ') # suppression de caractère spéciaux \n",
        "matrice['Abstract']=matrice['Abstract'].str.replace('[\"]',' ') # suppression de caractère spéciaux \n",
        "matrice['Abstract']=matrice['Abstract'].str.strip('\"')\n",
        "print(matrice['Abstract'])\n",
        "matrice['Abstract']=matrice['Abstract'].apply(lambda x:\" \".join(x for x in x.split() if x not in stop))# suppression des stop word \n",
        "matrice['Abstract']=matrice['Abstract'].apply(lambda x:\" \".join( [Word(word).lemmatize() for word in x.split()]))#etapes de lematisation remettre le mot à sa racine \n",
        "matrice['Abstract']=matrice['Abstract'].str.strip('\"')\n",
        "matrice['Abstract']=matrice['Abstract'].str.replace('[\"]','') \n",
        "matrice.reset_index(drop=True, inplace=True)"
      ],
      "execution_count": null,
      "outputs": [
        {
          "output_type": "stream",
          "text": [
            "Planning in an Expert System for Automated Information Retrieval.\n",
            "0      searching an organization s document repositor...\n",
            "1      latent semantic indexing  lsi  is a technique ...\n",
            "2      we present a novel algorithm that creates docu...\n",
            "3      searching online databases requires an informa...\n",
            "4      in this poster  we present a model of the flow...\n",
            "                             ...                        \n",
            "595    new upper and lower bounds are presented for t...\n",
            "596    we consider the following problem  given a col...\n",
            "597    we present a fast quantum byzantine agreement ...\n",
            "598    a program correctness checker is an algorithm ...\n",
            "599    we present a randomized byzantine agreement  b...\n",
            "Name: Abstract, Length: 600, dtype: object\n"
          ],
          "name": "stdout"
        }
      ]
    },
    {
      "cell_type": "code",
      "metadata": {
        "colab": {
          "base_uri": "https://localhost:8080/"
        },
        "id": "C8Gbkxocwv8o",
        "outputId": "8009969c-9591-4056-a5b8-eaaac5d507ea"
      },
      "source": [
        "## préptraitement des termes du titre\n",
        "print(matrice['Title'])\n",
        "matrice=matrice.dropna(subset=['Title']) # enlever les NA  ( supprimer les articles sans abstract )\n",
        "matrice['Title']=matrice['Title'].apply(lambda x:\" \".join(x.lower() for x in x.split()))\n",
        "print(matrice['Title'])\n",
        "matrice['Title']=matrice['Title'].str.replace('[^\\w\\s\\n\\d\"]','') # suppression de caractère spéciaux \n",
        "matrice['Title']=matrice['Title'].str.replace('[\\d]',' ') # suppression de caractère spéciaux \n",
        "matrice['Title']=matrice['Title'].str.replace('[\"]',' ') # suppression de caractère spéciaux \n",
        "matrice['Title']=matrice['Title'].str.strip('\"')\n",
        "print(matrice['Title'])\n",
        "matrice['Title']=matrice['Title'].apply(lambda x:\" \".join(x for x in x.split() if x not in stop))# suppression des stop word \n",
        "matrice['Title']=matrice['Title'].apply(lambda x:\" \".join( [Word(word).lemmatize() for word in x.split()]))#etapes de lematisation remettre le mot à sa racine \n",
        "matrice['Title']=matrice['Title'].str.strip('\"')\n",
        "matrice['Title']=matrice['Title'].str.replace('[\"]','') "
      ],
      "execution_count": null,
      "outputs": [
        {
          "output_type": "stream",
          "text": [
            "0      Formal models for expert finding in enterprise...\n",
            "1      Latent Semantic Indexing is an Optimal Special...\n",
            "2      Latent semantic-space: iterative scaling impro...\n",
            "3      Planning in an Expert System for Automated Inf...\n",
            "4      Discovering and structuring information flow a...\n",
            "                             ...                        \n",
            "595           Linear Time Bounds for Median Computations\n",
            "596        Linear Approximation of Shortest Superstrings\n",
            "597                    Fast quantum byzantine agreement.\n",
            "598             Designing Programs That Check Their Work\n",
            "599    Byzantine agreement in the full-information mo...\n",
            "Name: Title, Length: 600, dtype: object\n",
            "0      formal models for expert finding in enterprise...\n",
            "1      latent semantic indexing is an optimal special...\n",
            "2      latent semantic-space: iterative scaling impro...\n",
            "3      planning in an expert system for automated inf...\n",
            "4      discovering and structuring information flow a...\n",
            "                             ...                        \n",
            "595           linear time bounds for median computations\n",
            "596        linear approximation of shortest superstrings\n",
            "597                    fast quantum byzantine agreement.\n",
            "598             designing programs that check their work\n",
            "599    byzantine agreement in the full-information mo...\n",
            "Name: Title, Length: 600, dtype: object\n",
            "0      formal models for expert finding in enterprise...\n",
            "1      latent semantic indexing is an optimal special...\n",
            "2      latent semanticspace iterative scaling improve...\n",
            "3      planning in an expert system for automated inf...\n",
            "4      discovering and structuring information flow a...\n",
            "                             ...                        \n",
            "595           linear time bounds for median computations\n",
            "596        linear approximation of shortest superstrings\n",
            "597                     fast quantum byzantine agreement\n",
            "598             designing programs that check their work\n",
            "599    byzantine agreement in the fullinformation mod...\n",
            "Name: Title, Length: 600, dtype: object\n"
          ],
          "name": "stdout"
        }
      ]
    },
    {
      "cell_type": "code",
      "metadata": {
        "colab": {
          "base_uri": "https://localhost:8080/"
        },
        "id": "vBgG7VpevAYU",
        "outputId": "5f6a30a2-9e83-4c96-c0f7-bd54ff92d4be"
      },
      "source": [
        "#Construire la matrice Documents-termes pour l'abstract des articles\n",
        "matrice.reset_index(drop=True, inplace=True)\n",
        "vectorizer=CountVectorizer(max_features=1000,lowercase=True, ngram_range=(1,1), analyzer =\"word\")\n",
        "matrice_doc_terms=vectorizer.fit_transform(matrice['Abstract']) # obtenir la matrice sparce \n",
        "print(\"matrice_doc_terms\",matrice_doc_terms)\n",
        "matrice_doc_terms2=matrice_doc_terms.todense()\n",
        "print(\"matrice_doc_terms2\",matrice_doc_terms2)\n",
        "abstract= np.asarray(vectorizer.get_feature_names())\n",
        "print(\"abstract\",abstract)\n",
        "matrice_doc_terms2.shape"
      ],
      "execution_count": null,
      "outputs": [
        {
          "output_type": "stream",
          "text": [
            "matrice_doc_terms   (0, 803)\t2\n",
            "  (0, 630)\t1\n",
            "  (0, 270)\t4\n",
            "  (0, 334)\t6\n",
            "  (0, 716)\t1\n",
            "  (0, 203)\t1\n",
            "  (0, 280)\t1\n",
            "  (0, 852)\t1\n",
            "  (0, 901)\t1\n",
            "  (0, 369)\t2\n",
            "  (0, 683)\t1\n",
            "  (0, 939)\t1\n",
            "  (0, 395)\t1\n",
            "  (0, 880)\t2\n",
            "  (0, 404)\t1\n",
            "  (0, 138)\t1\n",
            "  (0, 961)\t2\n",
            "  (0, 692)\t1\n",
            "  (0, 572)\t3\n",
            "  (0, 371)\t2\n",
            "  (0, 260)\t1\n",
            "  (0, 494)\t1\n",
            "  (0, 77)\t1\n",
            "  (0, 60)\t2\n",
            "  (0, 804)\t3\n",
            "  :\t:\n",
            "  (599, 72)\t1\n",
            "  (599, 838)\t1\n",
            "  (599, 385)\t2\n",
            "  (599, 921)\t1\n",
            "  (599, 529)\t1\n",
            "  (599, 618)\t1\n",
            "  (599, 777)\t1\n",
            "  (599, 183)\t1\n",
            "  (599, 825)\t1\n",
            "  (599, 155)\t1\n",
            "  (599, 12)\t1\n",
            "  (599, 329)\t1\n",
            "  (599, 673)\t1\n",
            "  (599, 600)\t1\n",
            "  (599, 666)\t4\n",
            "  (599, 41)\t1\n",
            "  (599, 360)\t1\n",
            "  (599, 180)\t1\n",
            "  (599, 709)\t3\n",
            "  (599, 674)\t1\n",
            "  (599, 160)\t1\n",
            "  (599, 791)\t1\n",
            "  (599, 146)\t1\n",
            "  (599, 728)\t2\n",
            "  (599, 787)\t3\n",
            "matrice_doc_terms2 [[0 0 0 ... 0 0 0]\n",
            " [0 0 0 ... 0 0 0]\n",
            " [0 0 0 ... 0 0 0]\n",
            " ...\n",
            " [0 0 0 ... 0 0 0]\n",
            " [0 0 0 ... 0 0 0]\n",
            " [0 0 0 ... 0 0 0]]\n",
            "abstract ['ability' 'able' 'access' 'according' 'accuracy' 'accurate' 'accurately'\n",
            " 'achieve' 'achieved' 'acm' 'across' 'actual' 'adaptive' 'addition'\n",
            " 'additional' 'address' 'advantage' 'adversary' 'agent' 'aggregate'\n",
            " 'aggregation' 'al' 'algebra' 'algebraic' 'algorithm' 'algorithmic'\n",
            " 'allocation' 'allow' 'allowed' 'allows' 'almost' 'along' 'also'\n",
            " 'alternative' 'although' 'always' 'among' 'amount' 'analysis' 'analyze'\n",
            " 'another' 'answer' 'answering' 'application' 'applied' 'apply' 'applying'\n",
            " 'approach' 'appropriate' 'approximate' 'approximating' 'approximation'\n",
            " 'arbitrary' 'architecture' 'area' 'argue' 'argument' 'aspect' 'assembly'\n",
            " 'assertion' 'associated' 'association' 'assume' 'assuming' 'assumption'\n",
            " 'asynchronous' 'attempt' 'attribute' 'automatic' 'automatically'\n",
            " 'automaton' 'availability' 'available' 'average' 'balancing' 'bandwidth'\n",
            " 'base' 'based' 'basic' 'basis' 'behavior' 'benchmark' 'benefit' 'best'\n",
            " 'better' 'binary' 'bit' 'block' 'boolean' 'bound' 'bounded' 'box'\n",
            " 'branching' 'broad' 'broadcast' 'browsing' 'buffer' 'build' 'building'\n",
            " 'built' 'bulk' 'business' 'cache' 'caching' 'cal' 'calculus' 'call'\n",
            " 'called' 'candidate' 'cannot' 'capability' 'capture' 'case' 'cell'\n",
            " 'central' 'certain' 'challenge' 'change' 'characteristic'\n",
            " 'characterization' 'checker' 'choice' 'choose' 'chosen' 'circuit' 'class'\n",
            " 'classical' 'classification' 'classifier' 'clause' 'client' 'close'\n",
            " 'closure' 'cluster' 'clustering' 'co' 'code' 'coin' 'collection'\n",
            " 'combination' 'combinatorial' 'combine' 'combined' 'combining'\n",
            " 'commercial' 'common' 'communication' 'community' 'compare' 'compared'\n",
            " 'comparison' 'competitive' 'complete' 'completely' 'complex' 'complexity'\n",
            " 'component' 'compressed' 'compression' 'computation' 'computational'\n",
            " 'compute' 'computer' 'computing' 'concept' 'conceptual' 'concurrency'\n",
            " 'concurrent' 'condition' 'confidence' 'conjecture' 'connected'\n",
            " 'connection' 'consequence' 'consider' 'consideration' 'considered'\n",
            " 'consistency' 'consistent' 'consists' 'constant' 'constraint' 'construct'\n",
            " 'constructed' 'constructing' 'construction' 'contain' 'containing'\n",
            " 'contains' 'content' 'context' 'continuous' 'contrast' 'contribution'\n",
            " 'control' 'conventional' 'copy' 'corpus' 'correct' 'correctness'\n",
            " 'correlated' 'correlation' 'corresponding' 'cost' 'could' 'cover'\n",
            " 'create' 'created' 'criterion' 'crucial' 'cube' 'current' 'currently'\n",
            " 'cut' 'cycle' 'data' 'database' 'date' 'db' 'dbms' 'deal' 'decision'\n",
            " 'define' 'defined' 'defining' 'definition' 'degree' 'delay' 'demand'\n",
            " 'demonstrate' 'demonstrated' 'demonstration' 'dependency' 'dependent'\n",
            " 'depends' 'depth' 'derive' 'derived' 'describe' 'described' 'describes'\n",
            " 'description' 'design' 'designed' 'desirable' 'detail' 'detection'\n",
            " 'determine' 'deterministic' 'develop' 'developed' 'development'\n",
            " 'difference' 'different' 'difficult' 'difficulty' 'dimension'\n",
            " 'dimensional' 'dimensionality' 'directed' 'directly' 'directory' 'discus'\n",
            " 'discussed' 'disk' 'display' 'distance' 'distortion' 'distributed'\n",
            " 'distribution' 'document' 'domain' 'due' 'dynamic' 'dynamically'\n",
            " 'earlier' 'easily' 'easy' 'edge' 'effect' 'effective' 'effectively'\n",
            " 'effectiveness' 'efficiency' 'efficient' 'efficiently' 'effort' 'egr'\n",
            " 'either' 'element' 'embedding' 'empirical' 'employ' 'employed' 'enables'\n",
            " 'end' 'engine' 'enough' 'enterprise' 'entire' 'entropy' 'environment'\n",
            " 'epsilon' 'equal' 'equivalent' 'error' 'especially' 'essential'\n",
            " 'estimate' 'estimation' 'estimator' 'etc' 'euclidean' 'evaluate'\n",
            " 'evaluated' 'evaluating' 'evaluation' 'even' 'event' 'every' 'evidence'\n",
            " 'exact' 'examine' 'example' 'execution' 'exist' 'existence' 'existing'\n",
            " 'exists' 'expected' 'expensive' 'experience' 'experiment' 'experimental'\n",
            " 'expert' 'explicit' 'explicitly' 'exploiting' 'explore' 'exponential'\n",
            " 'exponentially' 'expressed' 'expression' 'extend' 'extended' 'extension'\n",
            " 'extensive' 'external' 'extract' 'extraction' 'extractor' 'extremely'\n",
            " 'facility' 'fact' 'factor' 'failure' 'family' 'far' 'fast' 'faster'\n",
            " 'fault' 'feature' 'feedback' 'field' 'file' 'filter' 'filtering'\n",
            " 'finally' 'find' 'finding' 'finite' 'first' 'fixed' 'flexible' 'flow'\n",
            " 'focus' 'following' 'form' 'formal' 'formula' 'found' 'four' 'framework'\n",
            " 'free' 'frequency' 'full' 'function' 'functional' 'functionality'\n",
            " 'fundamental' 'furthermore' 'future' 'game' 'gamma' 'gap' 'general'\n",
            " 'generalization' 'generalized' 'generate' 'generated' 'generation'\n",
            " 'generic' 'get' 'give' 'given' 'global' 'goal' 'good' 'grammar' 'graph'\n",
            " 'graphic' 'graphical' 'greedy' 'group' 'guarantee' 'guaranteed' 'hand'\n",
            " 'handle' 'hard' 'help' 'heuristic' 'hidden' 'hierarchical' 'hierarchy'\n",
            " 'high' 'higher' 'highly' 'histogram' 'hmm' 'hold' 'however' 'human'\n",
            " 'hybrid' 'idea' 'identify' 'image' 'impact' 'implement' 'implementation'\n",
            " 'implemented' 'implies' 'importance' 'important' 'improve' 'improved'\n",
            " 'improvement' 'improves' 'improving' 'include' 'includes' 'including'\n",
            " 'incorporating' 'increase' 'increasing' 'independent' 'index' 'indexing'\n",
            " 'indicate' 'individual' 'inequality' 'inference' 'infinite' 'information'\n",
            " 'inherent' 'initial' 'input' 'instance' 'instead' 'instruction' 'integer'\n",
            " 'integrated' 'integration' 'interaction' 'interactive' 'interest'\n",
            " 'interesting' 'interface' 'intermediate' 'internet' 'introduce'\n",
            " 'introduced' 'inverted' 'investigate' 'investigated' 'involves' 'ir'\n",
            " 'issue' 'item' 'job' 'join' 'judgment' 'kernel' 'key' 'kind' 'knowledge'\n",
            " 'known' 'language' 'large' 'larger' 'last' 'latent' 'lattice' 'ldquo'\n",
            " 'le' 'lead' 'learn' 'learning' 'least' 'length' 'let' 'level' 'lgr'\n",
            " 'library' 'life' 'like' 'limited' 'line' 'linear' 'link' 'list' 'little'\n",
            " 'load' 'local' 'locality' 'location' 'locking' 'log' 'logic' 'logical'\n",
            " 'long' 'loss' 'low' 'lower' 'lp' 'machine' 'made' 'main' 'maintaining'\n",
            " 'maintenance' 'major' 'make' 'management' 'manner' 'many' 'map' 'mapping'\n",
            " 'match' 'matching' 'math' 'mathematical' 'matrix' 'max' 'maximum' 'may'\n",
            " 'mdash' 'mean' 'measure' 'measured' 'mechanism' 'memory' 'message' 'meta'\n",
            " 'metasearch' 'method' 'methodology' 'metric' 'might' 'min' 'minimal'\n",
            " 'minimize' 'minimum' 'mining' 'model' 'modeling' 'modern' 'modification'\n",
            " 'monitoring' 'monotone' 'moreover' 'motivated' 'much' 'multi'\n",
            " 'multidimensional' 'multimedia' 'multiple' 'must' 'name' 'namely'\n",
            " 'natural' 'nc' 'nearest' 'nearly' 'necessary' 'need' 'needed' 'neighbor'\n",
            " 'nested' 'network' 'new' 'node' 'non' 'norm' 'notion' 'novel' 'np'\n",
            " 'number' 'object' 'objective' 'oblivious' 'obtain' 'obtained' 'ode'\n",
            " 'odeview' 'offer' 'often' 'omega' 'one' 'online' 'open' 'operating'\n",
            " 'operation' 'operator' 'optimal' 'optimization' 'optimizer' 'optimizers'\n",
            " 'optimum' 'oracle' 'order' 'ordering' 'organization' 'oriented'\n",
            " 'original' 'outlier' 'outperforms' 'output' 'overall' 'overhead' 'packet'\n",
            " 'page' 'pair' 'paper' 'paradigm' 'parallel' 'parameter' 'part' 'partial'\n",
            " 'particular' 'particularly' 'partitioning' 'party' 'path' 'pattern'\n",
            " 'peer' 'per' 'perform' 'performance' 'performed' 'permit' 'personal'\n",
            " 'phase' 'phrase' 'physical' 'place' 'plan' 'planar' 'player' 'point'\n",
            " 'polynomial' 'popular' 'positive' 'possible' 'potential' 'power'\n",
            " 'powerful' 'pp' 'practical' 'practice' 'precision' 'predicate'\n",
            " 'prediction' 'preference' 'presence' 'present' 'presentation' 'presented'\n",
            " 'previous' 'previously' 'primitive' 'principle' 'prior' 'privacy'\n",
            " 'probabilistic' 'probability' 'problem' 'procedure' 'process'\n",
            " 'processing' 'processor' 'produce' 'product' 'program' 'programming'\n",
            " 'project' 'projection' 'proof' 'property' 'propose' 'proposed' 'protocol'\n",
            " 'prototype' 'prove' 'proved' 'provide' 'provided' 'provider' 'provides'\n",
            " 'providing' 'pruning' 'purpose' 'quality' 'quantum' 'query' 'querying'\n",
            " 'question' 'queue' 'quite' 'random' 'randomized' 'range' 'rank' 'ranked'\n",
            " 'ranking' 'rapidly' 'rate' 'rather' 'ratio' 'rdquo' 'read' 'real'\n",
            " 'recent' 'recently' 'record' 'recursive' 'reduce' 'reduced' 'reduction'\n",
            " 'reference' 'regular' 'related' 'relation' 'relational' 'relationship'\n",
            " 'relative' 'relatively' 'relaxation' 'relevance' 'relevant' 'rely'\n",
            " 'replication' 'report' 'represent' 'representation' 'representative'\n",
            " 'represented' 'request' 'require' 'required' 'requirement' 'requires'\n",
            " 'research' 'researcher' 'resolution' 'resource' 'respect' 'response'\n",
            " 'restricted' 'restriction' 'result' 'resulting' 'retrieval' 'retrieved'\n",
            " 'retrieving' 'return' 'rewriting' 'robust' 'role' 'round' 'routing'\n",
            " 'rule' 'run' 'running' 'sample' 'sampling' 'satisfying' 'scalability'\n",
            " 'scale' 'scenario' 'scheduling' 'schema' 'scheme' 'score' 'search'\n",
            " 'searching' 'second' 'section' 'see' 'segmentation' 'selected'\n",
            " 'selection' 'selectivity' 'self' 'semantic' 'semantics' 'semi'\n",
            " 'semigroup' 'sense' 'sensitive' 'sentence' 'sequence' 'sequential'\n",
            " 'server' 'service' 'session' 'set' 'setting' 'several' 'shape' 'shared'\n",
            " 'sharing' 'short' 'shortest' 'show' 'showed' 'showing' 'shown' 'sided'\n",
            " 'signature' 'significant' 'significantly' 'similar' 'similarity' 'simple'\n",
            " 'simulation' 'simultaneously' 'since' 'single' 'site' 'situation' 'size'\n",
            " 'small' 'software' 'solution' 'solve' 'solving' 'sort' 'sorting' 'source'\n",
            " 'space' 'span' 'sparse' 'spatial' 'special' 'specific' 'specifically'\n",
            " 'specified' 'specify' 'speed' 'sql' 'standard' 'starting' 'state'\n",
            " 'static' 'statistic' 'statistical' 'step' 'still' 'storage' 'store'\n",
            " 'stored' 'strategy' 'stream' 'string' 'strong' 'structure' 'structured'\n",
            " 'studied' 'study' 'subject' 'subset' 'subspace' 'substantially'\n",
            " 'sufficient' 'suggest' 'suitable' 'summary' 'support' 'supporting'\n",
            " 'system' 'table' 'take' 'task' 'technique' 'technology' 'temporal' 'term'\n",
            " 'test' 'testing' 'text' 'textual' 'th' 'theorem' 'theoretic'\n",
            " 'theoretical' 'theory' 'therefore' 'three' 'threshold' 'thus' 'tight'\n",
            " 'tile' 'time' 'title' 'together' 'tool' 'top' 'topic' 'topology' 'total'\n",
            " 'tradeoff' 'traditional' 'traffic' 'training' 'transaction'\n",
            " 'transformation' 'translation' 'trec' 'tree' 'tuning' 'two' 'type'\n",
            " 'typically' 'underlying' 'undirected' 'uniform' 'uniformly' 'unique'\n",
            " 'unit' 'universal' 'university' 'unknown' 'unlike' 'update' 'upon'\n",
            " 'upper' 'us' 'usage' 'use' 'used' 'useful' 'user' 'using' 'usually'\n",
            " 'value' 'variable' 'variant' 'variety' 'various' 'vector' 'version'\n",
            " 'vertex' 'via' 'view' 'visual' 'vocabulary' 'walk' 'way' 'web' 'weight'\n",
            " 'weighted' 'well' 'whether' 'whose' 'wide' 'window' 'within' 'without'\n",
            " 'word' 'work' 'workload' 'world' 'worst' 'would' 'written' 'xml' 'xquery'\n",
            " 'year' 'yet' 'yield' 'zero']\n",
            "PRint hhh (600, 1000)\n"
          ],
          "name": "stdout"
        },
        {
          "output_type": "execute_result",
          "data": {
            "text/plain": [
              "(600, 1000)"
            ]
          },
          "metadata": {
            "tags": []
          },
          "execution_count": 70
        }
      ]
    },
    {
      "cell_type": "code",
      "metadata": {
        "colab": {
          "base_uri": "https://localhost:8080/"
        },
        "id": "z0h4bS6wo2zg",
        "outputId": "b8ef03fa-9bfb-48b3-f9b1-7679ead9366d"
      },
      "source": [
        "#Construire la matrice Documents-termes pour le titre des articles\n",
        "vectorizer_title=CountVectorizer(max_features=1000,lowercase=True, ngram_range=(1,1), analyzer =\"word\")\n",
        "print(\"vectorizer_title\",vectorizer_title)\n",
        "matrice_title_terms=vectorizer_title.fit_transform(matrice['Title']) # obtenir la matrice sparce \n",
        "print(\"matrice_title_terms\",matrice_title_terms)\n",
        "matrice_title_terms2=matrice_title_terms.todense()\n",
        "print(\"matrice_doc_terms2\",matrice_title_terms2)\n",
        "title= np.asarray(vectorizer_title.get_feature_names())\n",
        "print(\"title\",title)"
      ],
      "execution_count": null,
      "outputs": [
        {
          "output_type": "stream",
          "text": [
            "vectorizer_title CountVectorizer(analyzer='word', binary=False, decode_error='strict',\n",
            "                dtype=<class 'numpy.int64'>, encoding='utf-8', input='content',\n",
            "                lowercase=True, max_df=1.0, max_features=1000, min_df=1,\n",
            "                ngram_range=(1, 1), preprocessor=None, stop_words=None,\n",
            "                strip_accents=None, token_pattern='(?u)\\\\b\\\\w\\\\w+\\\\b',\n",
            "                tokenizer=None, vocabulary=None)\n",
            "matrice_title_terms   (0, 316)\t1\n",
            "  (0, 420)\t1\n",
            "  (0, 282)\t1\n",
            "  (0, 311)\t1\n",
            "  (0, 252)\t1\n",
            "  (0, 134)\t1\n",
            "  (1, 375)\t1\n",
            "  (1, 721)\t1\n",
            "  (1, 352)\t1\n",
            "  (1, 461)\t1\n",
            "  (1, 780)\t1\n",
            "  (1, 53)\t1\n",
            "  (1, 427)\t1\n",
            "  (1, 698)\t1\n",
            "  (2, 375)\t1\n",
            "  (2, 698)\t1\n",
            "  (2, 724)\t1\n",
            "  (2, 369)\t1\n",
            "  (2, 534)\t1\n",
            "  (2, 745)\t1\n",
            "  (2, 406)\t1\n",
            "  (3, 282)\t1\n",
            "  (3, 515)\t1\n",
            "  (3, 850)\t1\n",
            "  (3, 27)\t1\n",
            "  :\t:\n",
            "  (594, 362)\t1\n",
            "  (594, 23)\t1\n",
            "  (594, 574)\t1\n",
            "  (594, 365)\t1\n",
            "  (594, 652)\t1\n",
            "  (595, 385)\t1\n",
            "  (595, 90)\t1\n",
            "  (595, 44)\t1\n",
            "  (595, 876)\t1\n",
            "  (596, 385)\t1\n",
            "  (596, 19)\t1\n",
            "  (596, 741)\t1\n",
            "  (596, 835)\t1\n",
            "  (597, 307)\t1\n",
            "  (597, 601)\t1\n",
            "  (597, 6)\t1\n",
            "  (597, 50)\t1\n",
            "  (598, 986)\t1\n",
            "  (598, 185)\t1\n",
            "  (598, 569)\t1\n",
            "  (599, 420)\t1\n",
            "  (599, 6)\t1\n",
            "  (599, 680)\t1\n",
            "  (599, 50)\t1\n",
            "  (599, 445)\t1\n",
            "matrice_doc_terms2 [[0 0 0 ... 0 0 0]\n",
            " [0 0 0 ... 0 0 0]\n",
            " [0 0 0 ... 0 0 0]\n",
            " ...\n",
            " [0 0 0 ... 0 0 0]\n",
            " [0 0 0 ... 0 0 0]\n",
            " [0 0 0 ... 0 0 0]]\n",
            "title ['absence' 'abstract' 'access' 'across' 'adapting' 'adaptive' 'agreement'\n",
            " 'algebra' 'algebraic' 'algorithm' 'allocation' 'ambiguity' 'among'\n",
            " 'analysis' 'answering' 'application' 'approach' 'approximate'\n",
            " 'approximating' 'approximation' 'argument' 'array' 'association'\n",
            " 'assumption' 'asymmetric' 'asynchronous' 'attribute' 'automated'\n",
            " 'automatic' 'availability' 'average' 'balancing' 'base' 'based' 'basket'\n",
            " 'bayesian' 'behavior' 'betti' 'bias' 'biased' 'binary' 'bit' 'boosting'\n",
            " 'borealis' 'bound' 'bounded' 'broadcast' 'btrees' 'building' 'business'\n",
            " 'byzantine' 'caching' 'calculus' 'case' 'categorization'\n",
            " 'characterization' 'chromatic' 'circuit' 'cite' 'class' 'classification'\n",
            " 'classifier' 'cluster' 'clustering' 'code' 'cognitive' 'collaborative'\n",
            " 'collection' 'combination' 'combinatorial' 'combining' 'commerce'\n",
            " 'commitment' 'common' 'communication' 'communitybased' 'compact'\n",
            " 'comparative' 'compared' 'comparison' 'competitive' 'compiler' 'complete'\n",
            " 'complex' 'complexity' 'component' 'compose' 'composite' 'compression'\n",
            " 'computable' 'computation' 'computational' 'compute' 'computer'\n",
            " 'computeraided' 'computerised' 'computing' 'concept' 'conceptual'\n",
            " 'concordance' 'concrete' 'concurrency' 'condenser' 'condition'\n",
            " 'conditional' 'confluence' 'congestion' 'congressional' 'conjecture'\n",
            " 'conjunctive' 'connected' 'connectionism' 'connectionist' 'consensus'\n",
            " 'consequence' 'consideration' 'consistency' 'consisting' 'constant'\n",
            " 'constraint' 'constructing' 'construction' 'content' 'contentbased'\n",
            " 'context' 'contextsensitive' 'continuous' 'contradiction' 'control'\n",
            " 'convex' 'coordinating' 'copy' 'corelevance' 'coresets' 'corpus'\n",
            " 'correctness' 'correlation' 'cost' 'costsensitive' 'counting' 'cover'\n",
            " 'covercoefficientbased' 'covert' 'crcw' 'critique' 'crosslanguage'\n",
            " 'cryptographic' 'cube' 'current' 'curse' 'curve' 'cut' 'cutnorm'\n",
            " 'cutting' 'cycle' 'damping' 'data' 'database' 'dataflow' 'dataintensive'\n",
            " 'db' 'dbcache' 'dbms' 'deadlinetsp' 'debugger' 'decade' 'decision'\n",
            " 'declarative' 'decodable' 'decremental' 'deductive' 'deep' 'defined'\n",
            " 'degeneracy' 'degree' 'delayed' 'delivering' 'demo' 'densitybased'\n",
            " 'dependency' 'depth' 'derandomization' 'derived' 'description' 'design'\n",
            " 'designing' 'detect' 'detecting' 'detection' 'determining' 'determinism'\n",
            " 'deterministic' 'development' 'device' 'diagram' 'difference' 'different'\n",
            " 'difficult' 'digital' 'dimension' 'dimensional' 'dimensionality'\n",
            " 'diogenes' 'direct' 'directed' 'directory' 'dirichlet' 'disclosure'\n",
            " 'discovering' 'discovery' 'discrete' 'discrimination' 'disjunction'\n",
            " 'disk' 'dispersers' 'dissemination' 'distance' 'distillation' 'distinct'\n",
            " 'distortion' 'distributed' 'distribution' 'document' 'dual' 'dynamic'\n",
            " 'easy' 'edge' 'edgecontraction' 'edgedeletion' 'edgedisjoint' 'edit'\n",
            " 'education' 'educe' 'effective' 'effectiveness' 'efficiency' 'efficient'\n",
            " 'efficiently' 'eigenvalue' 'electronic' 'element' 'email' 'embedding'\n",
            " 'embeddings' 'empirical' 'enabling' 'encryption' 'end' 'endtoend'\n",
            " 'engine' 'enhanced' 'enough' 'enterprise' 'entropy' 'environment'\n",
            " 'epsilon' 'equation' 'equivalence' 'estimate' 'estimation' 'estimator'\n",
            " 'ethnographic' 'euclidean' 'euler' 'evaluating' 'evaluation' 'event'\n",
            " 'every' 'evidence' 'evolution' 'exact' 'exclusive' 'execution'\n",
            " 'existence' 'expander' 'expanders' 'expansion' 'expectation' 'expected'\n",
            " 'experience' 'experiment' 'experimental' 'expert' 'explanation'\n",
            " 'exploiting' 'exploration' 'exploratory' 'exploring' 'explorit'\n",
            " 'exponential' 'expressing' 'expression' 'expressive' 'extended'\n",
            " 'extending' 'extracted' 'extracting' 'extraction' 'extractor' 'facility'\n",
            " 'factoid' 'factor' 'factorization' 'fail' 'fails' 'fakyr' 'family' 'fast'\n",
            " 'feedback' 'file' 'filtering' 'finding' 'finite' 'first' 'flexible'\n",
            " 'flow' 'formal' 'framework' 'free' 'full' 'fulltext' 'function'\n",
            " 'functional' 'fuzzy' 'game' 'general' 'generalized' 'generalizing'\n",
            " 'generation' 'geometric' 'grammar' 'graph' 'graphical' 'group'\n",
            " 'guarantee' 'hardness' 'heterogeneous' 'hierarchical' 'hierarchy' 'high'\n",
            " 'highperformance' 'histogram' 'image' 'impact' 'implementation'\n",
            " 'implementing' 'improve' 'improved' 'improving' 'incomplete'\n",
            " 'independent' 'index' 'indexing' 'inequality' 'infinite' 'information'\n",
            " 'informationtheoretic' 'integer' 'integrating' 'integration'\n",
            " 'intelligent' 'interaction' 'interactive' 'interface' 'internet'\n",
            " 'intractability' 'inverted' 'ir' 'issue' 'iterative' 'join' 'judgment'\n",
            " 'knowledge' 'language' 'large' 'latent' 'lattice' 'le' 'learn' 'learning'\n",
            " 'length' 'level' 'lexical' 'library' 'line' 'linear' 'link' 'list' 'load'\n",
            " 'local' 'locality' 'log' 'logarithmic' 'logic' 'lower' 'lrk' 'machine'\n",
            " 'maintaining' 'maintenance' 'management' 'market' 'marking' 'massive'\n",
            " 'matching' 'matchings' 'measure' 'measurement' 'mechanism' 'mediator'\n",
            " 'medical' 'memory' 'metadata' 'metasearch' 'method' 'methodology'\n",
            " 'metric' 'microsoft' 'minimization' 'minimizing' 'mining' 'model'\n",
            " 'modeldriven' 'modeling' 'modelling' 'monitoring' 'monotone'\n",
            " 'multidatabase' 'multidimensional' 'multimedia' 'multiway' 'natural' 'nc'\n",
            " 'nearest' 'neighbor' 'network' 'new' 'news' 'nondeterministic' 'number'\n",
            " 'object' 'objectoriented' 'ode' 'odeview' 'ok' 'ole' 'olog'\n",
            " 'omegaregular' 'one' 'onedimensional' 'oneway' 'online' 'onlog'\n",
            " 'ontology' 'ontologybased' 'oodb' 'opac' 'open' 'opensource' 'operation'\n",
            " 'optic' 'optical' 'optimal' 'optimality' 'optimistic' 'optimization'\n",
            " 'optimizer' 'optimum' 'option' 'oracle' 'order' 'ordering'\n",
            " 'orderpreserving' 'organization' 'oriented' 'orthogonal' 'outer'\n",
            " 'outlier' 'outline' 'output' 'overlap' 'overview' 'packet' 'page'\n",
            " 'pagerank' 'paging' 'pairwise' 'paradigm' 'parallel' 'parser' 'partial'\n",
            " 'particle' 'partitioning' 'partofspeech' 'passage' 'patchwork' 'path'\n",
            " 'pattern' 'pdafriendly' 'peertopeer' 'people' 'performance' 'permit'\n",
            " 'permutation' 'perplexity' 'personal' 'personalization' 'personalize'\n",
            " 'perspective' 'phenomenon' 'phrase' 'physic' 'physical' 'pipelined'\n",
            " 'plan' 'planar' 'planning' 'platform' 'plausible' 'point' 'polygon'\n",
            " 'polylog' 'polynomial' 'polynomialtime' 'polytime' 'pooling' 'portable'\n",
            " 'possible' 'power' 'powered' 'powerlaw' 'practical' 'practicality'\n",
            " 'practically' 'pram' 'precision' 'precisionrecall' 'precomputed'\n",
            " 'predicate' 'predicting' 'prediction' 'preemption' 'preference'\n",
            " 'prefetching' 'prehension' 'preliminary' 'presentation' 'preserving'\n",
            " 'price' 'prime' 'primitive' 'principle' 'principled' 'prior' 'priority'\n",
            " 'privacy' 'privacypreserving' 'private' 'prizecollecting' 'proactive'\n",
            " 'probabilistic' 'probability' 'problem' 'proceeding' 'process'\n",
            " 'processing' 'processor' 'product' 'production' 'profile' 'program'\n",
            " 'programming' 'programspreliminary' 'project' 'projected' 'proof'\n",
            " 'propagation' 'property' 'propositional' 'protocol' 'prototype'\n",
            " 'providing' 'proximity' 'pruned' 'pruning' 'pseudoanonymous'\n",
            " 'pseudorandom' 'ptrees' 'public' 'pull' 'push' 'pushdown'\n",
            " 'pyramidtechnique' 'qa' 'qos' 'quadratic' 'quality' 'qualityconscious'\n",
            " 'quantified' 'quantifier' 'quantitative' 'quantity' 'quantum' 'quark'\n",
            " 'quasiptas' 'query' 'querying' 'querysensitive' 'question' 'queue'\n",
            " 'ramsey' 'ramseytype' 'random' 'randomized' 'randomness' 'range' 'rank'\n",
            " 'ranking' 'rasdaman' 'rdbs' 'real' 'realistic' 'realtime' 'realvalued'\n",
            " 'reasoner' 'reassignment' 'recall' 'recognizing' 'recommendation'\n",
            " 'record' 'recoverable' 'rectangle' 'recursion' 'recursiontheoretic'\n",
            " 'recursive' 'reduce' 'reducibility' 'reducible' 'reducing' 'reduction'\n",
            " 'reference' 'refinement' 'reformulation' 'regular' 'related' 'relation'\n",
            " 'relational' 'relationship' 'relaxedcurrency' 'relevance' 'relevant'\n",
            " 'reliability' 'reliable' 'remove' 'reoptimization' 'reordering'\n",
            " 'replicated' 'replication' 'report' 'reporting' 'repository'\n",
            " 'representation' 'representing' 'request' 'requirement' 'research'\n",
            " 'resolution' 'resource' 'result' 'retrieval' 'retrieve' 'retrieving'\n",
            " 'reverse' 'revisited' 'riemann' 'rime' 'rio' 'risc' 'rising' 'robust'\n",
            " 'role' 'round' 'routing' 'rprecision' 'rpref' 'rsa' 'rtree' 'rtrees'\n",
            " 'rule' 'running' 'runtime' 'safe' 'salesman' 'sample' 'sampling' 'santa'\n",
            " 'satisfaction' 'satisfying' 'scalar' 'scaling' 'scheduling' 'schema'\n",
            " 'scheme' 'schnorrs' 'scholarly' 'scientific' 'scoredistributional'\n",
            " 'scoring' 'search' 'searchable' 'searchersystem' 'searching' 'security'\n",
            " 'segmentation' 'selection' 'selectivity' 'selfadapting' 'selfassembled'\n",
            " 'selfassembly' 'selfish' 'selftaught' 'selftuning' 'semantic' 'semantics'\n",
            " 'semanticsbased' 'semanticspace' 'semialgebraic' 'sentence' 'separation'\n",
            " 'sequence' 'sequencing' 'sequential' 'serializability' 'server' 'service'\n",
            " 'serviceenabled' 'set' 'shared' 'sharing' 'sharp' 'shor' 'short'\n",
            " 'shortest' 'sieve' 'sigir' 'signature' 'similarity' 'simple' 'simplex'\n",
            " 'simplified' 'simulating' 'simulation' 'single' 'singly' 'singularity'\n",
            " 'site' 'size' 'skepticism' 'sleeper' 'sliding' 'sm' 'smaller' 'smart'\n",
            " 'snippetindexes' 'soft' 'software' 'solution' 'solutionspace' 'solving'\n",
            " 'som' 'sort' 'sorting' 'source' 'sovereign' 'space' 'spaceefficient'\n",
            " 'span' 'sparse' 'sparsest' 'spartan' 'spatial' 'special' 'specialized'\n",
            " 'specification' 'specifying' 'spectral' 'speech' 'speeding' 'spirit'\n",
            " 'sql' 'square' 'st' 'stability' 'stable' 'staggered' 'stall' 'state'\n",
            " 'static' 'statistic' 'statistical' 'steiner' 'step' 'stochastic'\n",
            " 'storage' 'store' 'stored' 'straight' 'strategy' 'stream' 'streamon'\n",
            " 'strict' 'string' 'strip' 'striping' 'strong' 'structural' 'structure'\n",
            " 'structured' 'structuring' 'student' 'study' 'stylistic' 'subgraphs'\n",
            " 'subject' 'sublinear' 'subpolynomial' 'subsequence' 'subset' 'subspace'\n",
            " 'subwebs' 'succinct' 'summarization' 'summarizing' 'summary' 'super'\n",
            " 'superconcentrators' 'superstring' 'supervised' 'support' 'supporting'\n",
            " 'surface' 'surrogate' 'svm' 'switch' 'switching' 'synchronization'\n",
            " 'synchronized' 'synchronous' 'synopsis' 'syntactical' 'synthesizing'\n",
            " 'system' 'table' 'tableau' 'tag' 'task' 'technique' 'technology'\n",
            " 'temporal' 'tensor' 'term' 'termination' 'terminological' 'test'\n",
            " 'testable' 'testbed' 'testing' 'text' 'tfidflike' 'theorem' 'theoretic'\n",
            " 'theoretical' 'theory' 'thesaurus' 'three' 'threshold' 'tide' 'time'\n",
            " 'timeadaptive' 'timeline' 'timespace' 'timewindows' 'tipster' 'tirs'\n",
            " 'together' 'tolerant' 'tool' 'top' 'topdoc' 'topic' 'topically' 'topk'\n",
            " 'topological' 'toward' 'towards' 'traceback' 'traceroute' 'tractable'\n",
            " 'tradeoff' 'trading' 'training' 'transaction' 'transduction' 'transfer'\n",
            " 'transform' 'transformation' 'transitive' 'translating' 'translation'\n",
            " 'translator' 'transportable' 'tree' 'triangular' 'trie' 'trisector'\n",
            " 'truthtelling' 'tuning' 'turkish' 'tutorial' 'two' 'twoparty' 'type'\n",
            " 'typical' 'ui' 'understanding' 'undirected' 'unified' 'unifying'\n",
            " 'unimodal' 'unique' 'universal' 'university' 'unknown' 'unlabeled'\n",
            " 'unrelated' 'unsplittable' 'untapped' 'update' 'updating' 'usage' 'use'\n",
            " 'used' 'user' 'userfriendly' 'userselected' 'using' 'utilitytheoretic'\n",
            " 'validation' 'validity' 'value' 'variant' 'vector' 'vehicle' 'version'\n",
            " 'versioning' 'versus' 'vertex' 'vertexcuts' 'vertical' 'vgm' 'via' 'view'\n",
            " 'viewpoint' 'visibly' 'visual' 'visualization' 'vlsi' 'voronoi'\n",
            " 'waitfree' 'walk' 'wallerkraft' 'warehouse' 'way' 'weak' 'weakly' 'web'\n",
            " 'webawhere' 'weblogic' 'weight' 'whose' 'wide' 'window' 'winner' 'wish'\n",
            " 'within' 'without' 'wordprocessing' 'work' 'workaholic' 'workflow'\n",
            " 'workload' 'workspace' 'workstation' 'world' 'worstcase' 'www' 'xml'\n",
            " 'xmlbased' 'xqbe' 'xquery' 'yellowpager']\n"
          ],
          "name": "stdout"
        }
      ]
    },
    {
      "cell_type": "code",
      "metadata": {
        "colab": {
          "base_uri": "https://localhost:8080/"
        },
        "id": "2XPszN3zHuUH",
        "outputId": "e230b988-f586-4fcf-bf4b-77b7c56def16"
      },
      "source": [
        "#Ajouter une colonne ‘Id’ représentant l’identifiant du document aux matrices Documents-termes \"abstract\".\n",
        "matrice_term_index=pd.DataFrame(data=matrice_doc_terms2, columns=abstract)\n",
        "#matrice_term_index[\"ID\"]=matrice['ID']\n",
        "matrice_term_index=pd.concat([matrice_term_index, matrice['ID']], axis = 1)\n",
        "print(\"1er \",matrice_term_index)\n",
        "print(\"2eme\",matrice_term_index.loc[0, 'ID'])\n",
        "#Ajouter une colonne ‘Id’ représentant l’identifiant du document aux matrices Documents-termes \"title\".\n",
        "matrice_title_index=pd.DataFrame(data=matrice_title_terms2, columns=title)\n",
        "#matrice_term_index[\"ID\"]=matrice['ID']\n",
        "matrice_title_index=pd.concat([matrice_title_index, matrice['ID']], axis = 1)\n",
        "print(\"1er \",matrice_title_index)\n",
        "print(\"2eme\",matrice_title_index.loc[0, 'ID'])\n"
      ],
      "execution_count": null,
      "outputs": [
        {
          "output_type": "stream",
          "text": [
            "1er       ability  able  access  according  accuracy  ...  year  yet  yield  zero      ID\n",
            "0          0     0       0          0         0  ...     0    0      0     0  594377\n",
            "1          0     0       0          0         0  ...     0    0      0     0  594378\n",
            "2          0     0       0          0         0  ...     0    0      0     0  594379\n",
            "3          0     0       0          0         0  ...     0    0      0     0  594381\n",
            "4          0     0       0          0         0  ...     0    0      0     0  594383\n",
            "..       ...   ...     ...        ...       ...  ...   ...  ...    ...   ...     ...\n",
            "595        0     0       0          0         0  ...     0    0      0     0  621461\n",
            "596        0     0       0          0         0  ...     0    1      0     0  621463\n",
            "597        0     0       0          0         0  ...     0    0      0     0  621464\n",
            "598        0     0       0          0         0  ...     0    0      0     0  621465\n",
            "599        0     0       0          0         0  ...     0    0      0     0  621468\n",
            "\n",
            "[600 rows x 1001 columns]\n",
            "2eme 594377\n",
            "1er       absence  abstract  access  across  ...  xqbe  xquery  yellowpager      ID\n",
            "0          0         0       0       0  ...     0       0            0  594377\n",
            "1          0         0       0       0  ...     0       0            0  594378\n",
            "2          0         0       0       0  ...     0       0            0  594379\n",
            "3          0         0       0       0  ...     0       0            0  594381\n",
            "4          0         0       0       0  ...     0       0            0  594383\n",
            "..       ...       ...     ...     ...  ...   ...     ...          ...     ...\n",
            "595        0         0       0       0  ...     0       0            0  621461\n",
            "596        0         0       0       0  ...     0       0            0  621463\n",
            "597        0         0       0       0  ...     0       0            0  621464\n",
            "598        0         0       0       0  ...     0       0            0  621465\n",
            "599        0         0       0       0  ...     0       0            0  621468\n",
            "\n",
            "[600 rows x 1001 columns]\n",
            "2eme 594377\n"
          ],
          "name": "stdout"
        }
      ]
    },
    {
      "cell_type": "code",
      "metadata": {
        "colab": {
          "base_uri": "https://localhost:8080/"
        },
        "id": "JTOebbBUIeMc",
        "outputId": "0cabb194-ac70-4ae8-bb89-85e5208efa8a"
      },
      "source": [
        "# prétraitement de la colone authors\n",
        "print(matrice['Authors'])\n",
        "matrice=matrice.dropna(subset=['Authors']) # enlever les NA  ( supprimer les articles sans abstract )\n",
        "def splitauthor(authors):\n",
        "  temp = authors.lower()\n",
        "  splitted_authors = []\n",
        "  for author in re.split('\\n|,',temp):\n",
        "    splitted_authors.append(author.strip())\n",
        "  return splitted_authors\n",
        "matrice[\"splitted_authors\"] = matrice[\"Authors\"].apply(splitauthor)\n",
        "print(matrice[\"splitted_authors\"])\n",
        "all_authors = []\n",
        "for index, row in matrice.iterrows():\n",
        "  for author in row[\"splitted_authors\"]:\n",
        "    if author not in all_authors:\n",
        "      all_authors.append(author)\n",
        "print(\"all_authors\",all_authors)\n",
        "len(all_authors)"
      ],
      "execution_count": null,
      "outputs": [
        {
          "output_type": "stream",
          "text": [
            "0        Krisztian Balog,Leif Azzopardi,Maarten de Rijke\n",
            "1      Brian T. Bartell,Garrison W. Cottrell,Richard ...\n",
            "2                                        Rie Kubota Ando\n",
            "3                         Christine Barthes,Pierre Glize\n",
            "4                        Joan C. Bartlett,Elaine G. Toms\n",
            "                             ...                        \n",
            "595    Manuel Blum,Robert W. Floyd,Vaughan R. Pratt,R...\n",
            "596    Avrim Blum,Tao Jiang,Ming Li,John Tromp,Mihali...\n",
            "597                     Michael Ben-Or,Avinatan Hassidim\n",
            "598                           Manuel Blum,Sampath Kannan\n",
            "599      Michael Ben-Or,Elan Pavlov,Vinod Vaikuntanathan\n",
            "Name: Authors, Length: 600, dtype: object\n",
            "0      [krisztian balog, leif azzopardi, maarten de r...\n",
            "1      [brian t. bartell, garrison w. cottrell, richa...\n",
            "2                                      [rie kubota ando]\n",
            "3                      [christine barthes, pierre glize]\n",
            "4                     [joan c. bartlett, elaine g. toms]\n",
            "                             ...                        \n",
            "595    [manuel blum, robert w. floyd, vaughan r. prat...\n",
            "596    [avrim blum, tao jiang, ming li, john tromp, m...\n",
            "597                  [michael ben-or, avinatan hassidim]\n",
            "598                        [manuel blum, sampath kannan]\n",
            "599    [michael ben-or, elan pavlov, vinod vaikuntana...\n",
            "Name: splitted_authors, Length: 600, dtype: object\n",
            "all_authors ['krisztian balog', 'leif azzopardi', 'maarten de rijke', 'brian t. bartell', 'garrison w. cottrell', 'richard k. belew', 'rie kubota ando', 'christine barthes', 'pierre glize', 'joan c. bartlett', 'elaine g. toms', 'm. bärtschi', 'hans-peter frei', 'justin basilico', 'thomas hofmann', 'holger bast', 'debapriyo majumdar', 'ingmar weber', 'madeleine bates', 'robert j. bobrow', 'mayank bawa', 'gurmeet singh manku', 'prabhakar raghavan', 'anthony q. baxter', 'rowland r. johnson', 'jan de beer', 'marie-francine moens', 'steven m. beitzel', 'eric c. jensen', 'abdur chowdhury', 'david a. grossman', 'ophir frieder', 'greg pass', 'nicholas j. belkin', 'barbara h. kwasnik', 'gordon bell', 'jim gemmell', 'roger lueder', 'timothy a. h. bell', 'alistair moffat', 'ijsbrand jan aalbersberg', 'jeffery antoniuk', 'mario a. nascimento', 'avi arampatzis', 'andré van hameren', 'shlomo argamon', 'gady agam', 'david d. lewis', 'g. sohn', 'ellen m. voorhees', 'eugene agichtein', 'eric brill', 'susan t. dumais', 'robert a. amsler', 'razvan stefan bot', 'robert ragno', 'david m. arnow', 'aaron m. tenenbaum', 'connie wu', 'silviu cucerzan', 'javier artiles', 'julio gonzalo', 'felisa verdejo', 'maristella agosti', 'maurizio masotti', 'javed a. aslam', 'meredith frost', 's. kagan agun', 'khurshid ahmad', 'bogdan vrusias', 'paulo c. f. de oliveira', 'mark h. montague', 'akiko n. aizawa', 'virgiliu pavlu', 'robert savell', 'deniz aktug', 'fazli can', 'emine yilmaz', 'barbara allan', 'james allan', 'ben carterette', 'joshua lewis', 'rahul gupta', 'vikas khandelwal', 'y. alp aslandogan', 'clement t. yu', 'hema raghavan', 'courtney wade', 'alvaro bolivar', 'azreen azman', 'iadh ounis', 'bryce allen', 'm. k. azmoodeh', 'simon h. lavington', 'm. standring', 'valerie s. allen', 'abe lederman', 'mark girolami', 'malcolm crowe', 'omar alonso', 'michael gertz', 'keith van rijsbergen', 'cornelis joost van rijsbergen', 'massih-reza amini', 'patrick gallinari', 'claudine santos badue', 'ramurti a. barbosa', 'paulo braz golgher', 'berthier a. ribeiro-neto', 'nivio ziviani', 'einat amitay', 'david carmel', 'ronny lempel', 'aya soffer', 'ricardo a. baeza-yates', 'paolo boldi', 'carlos castillo', \"nadav har'el\", 'ron sivan', 'ion androutsopoulos', 'john koutsias', 'konstantinos chandrinos', 'constantine d. spyropoulos', 'gaston h. gonnet', 'ralitsa angelova', 'gerhard weikum', 'dirk bahle', 'hugh e. williams', 'justin zobel', 'vo ngoc anh', 'wilma bainbridge', 'ryen w. white', 'douglas w. oard', 'peter g. anick', 'jeffrey d. brennan', 'rex a. flynn', 'david r. hanssen', 'bryan alvey', 'jeffrey m. robbins', 'matthias bender', 'sebastian michel', 'peter triantafillou', 'christian zimmer', 'aleksander kolcz', 'diane kelly', 'g. kim', 'ja-young kim', 'hyuk-jin lee', 'gheorghe muresan', 'muh-chyun (morris) tang', 'xiao-jun yuan', 'colleen cool', 'paul n. bennett', 'eric horvitz', 'adam l. berger', 'rich caruana', 'david cohn', 'dayne freitag', 'vibhu o. mittal', 'catherine berrut', 'yves chiaramella', 'patrick palmer', 'chris buckley', 'stamatina betsi', 'mounia lalmas', 'anastasios tombros', 'theodora tsikrika', 'edward a. fox', 'peter biebricher', 'norbert fuhr', 'gerhard lustig', 'michael schwantner', 'gerhard knorz', 'darrin dimmick', 'ian soboroff', 'horst biller', 'a. f. lewit', 'bodo billerbeck', 'ella bingham', 'jukka kuusisto', 'krista lagus', 'peter bruza', 'linda c. van der gaag', 'roi blanco', 'alvaro barreiro', 'tobias blanke', 'david m. blei', 'michael i. jordan', 'duncan a. buell', 'donald h. kraft', 'pedro j. moreno', 'm. j. blosseville', 'georges hébrail', 'm. g. monteil', 'n. pénot', 'forbes j. burkowski', 'phil blunsom', 'krystle kocik', 'james r. curran', 'david bodoff', 'pu li', 'stefan büttcher', 'charles l. a. clarke', 'brad lushman', 'ulrich bohnacker', 'ingrid renz', 'peter bollmann', 'nikolai buzikashvili', 'xin fu', 'robert mcarthur', 'simon dennis', 'zhenmei gu', 'ming luo', 'friedbert jochum', 'u. reiner', 'v. weissmarm', 'horst zuse', 'ben he', 'e. konrad', 'vijay v. raghavan', 'xiang ji', 'wei xu', 's. k. michael wong', 'susan bonzi', 'elizabeth d. liddy', 'lijuan cai', 'deng cai', 'xiaofei he', 'jiawei han', 'ji-rong wen', 'wei-ying ma', 'shipeng yu', 'abraham bookstein', 'shmuel t. klein', 'james p. callan', 'w. bruce croft', 'f. r. campagnoni', 'kate ehrlich', 'christine l. borgman', 'seyit kocberber', 'erman balcik', 'cihan kaynak', 'huseyin cagdas ocalan', 'onur m. vursavas', 'esen a. ozkarahan', 'donald owen case', 'charles t. meadow', 'patrick bosc', 'michèle courant', 'sophie robin', 'm. galibourg', 'john f. canny', 'rodrigo a. botafogo', 'pedro cano', 'markus koppenberger', 'nicolas wack', 'yunbo cao', 'jun xu', 'tie-yan liu', 'hang li', 'yalou huang', 'hsiao-wuen hon', 'raymond f. boyce', 'donald d. chamberlin', 'michael hammer', 'w. frank king iii', 'sandra carberry', 'stephanie elzer', 'seniz demir', 'oisín boydell', 'barry smyth', 'cathal gurrin', 'alan f. smeaton', 'ronald j. brachman', 'deborah l. mcguinness', 'yoëlle s. maarek', 'matan mandelbrod', 'yosi mass', 'elad yom-tov', 'adam darlow', 'dan pelleg', 'gustavo carneiro', 'nuno vasconcelos', 'nieves r. brisaboa', 'antonio fariña', 'gonzalo navarro', 'josé r. paramá', 'john m. carroll', 'elana broch', 'ramesh k. sitaraman', 'andrei z. broder', 'desislava petkova', 'vitor rocha de carvalho', 'william w. cohen', 'eric w. brown', 'steven c. cater', 'james caverlee', 'ling liu', 'joonsoo bae', 'augusto celentano', 'maria grazia fugini', 'silvano pozzi', 'marie-france bruandet', 'kian ming adam chai', 'joyce y. chai', 'tyler baldwin', 'chen zhang', 'hai leong chieu', 'hwee tou ng', 'soumen chakrabarti', 'mukul joshi', 'vivek tawde', 'matthew chalmers', 'paul chitson', 'raman chandrasekar', 'harr chen', 'simon corston-oliver', 'jae-woo chang', 'joon ho lee', 'yoon-joon lee', 'paul j. chase', 'hsinchun chen', 'vasant dhar', 'ing-xiang chen', 'jui-chi ho', 'cheng-zen yang', 'david r. karger', 'mao chen', 'andrea s. lapaugh', 'jaswinder pal singh', 'zheng chen', 'shengping liu', 'liu wenyin', 'geguang pu', 'pu-jen cheng', 'jei-wen teng', 'ruey-cheng chen', 'jenq-haur wang', 'wen-hsiang lu', 'lee-feng chien', 'emile c. chi', 'carol friedman', 'naomi sager', 'margaret s. lyman', 'bruno defude', 'd. kerkouba', 'jian-yun nie', 'yoong keok lee', 'taurai tapiwa chinenyanga', 'nicholas kushmerick', 'paul-alexandru chirita', 'wolfgang nejdl', 'raluca paiu', 'christian kohlschütter', 'ikkyu choi', 'minkoo kim', 'prashant choudhari', 'hasan davulcu', 'abhishek joglekar', 'akshay more', 'saikat mukherjee', 'supriya patil', 'i. v. ramakrishnan', 'yaacov choueka', 'aviezri s. fraenkel', 'e. segal', 'yehoshua perl', 'm. catherine mccabe', 'james e. allchin', 'arthur m. keller', 'gio wiederhold', 'rafael alonso', 'henry f. korth', 'hussien aly', 'z. meral özsoyoglu', 'anastasia analyti', 'sakti pramanik', 'richard anderson', 'gopalan arun', 'richard frank', 'todd a. anderson', 'yuri breitbart', 'avishai wool', 'periklis andritsos', 'renée j. miller', 'panayiotis tsaparas', 'mihael ankerst', 'markus m. breunig', 'hans-peter kriegel', 'jörg sander', 'jesse anton', 'lawrence jacobs', 'xiang liu', 'jordan parker', 'zheng zeng', 'tie zhong', 'eman anwar', 'l. maugis', 'sharma chakravarthy', 'arvind arasu', 'hector garcia-molina', 'walid g. aref', 'daniel barbará', 'padmavathi vallabhaneni', 'lars arge', 'mark de berg', 'herman j. haverkort', 'ke yi', 'ramesh c. agarwal', 'vassilis athitsos', 'marios hadjieleftheriou', 'george kollios', 'stan sclaroff', 'paolo atzeni', 'riccardo torlone', 'kamar aulakh', 'ahmed ayad', 'jeffrey f. naughton', 'brian babcock', 'surajit chaudhuri', 'gautam das', 'chris olston', 'shivnath babu', 'pedro bizarro', 'david j. dewitt', 'minos n. garofalakis', 'rajeev rastogi', 'charu c. aggarwal', 'daniel j. abadi', 'mitch cherniack', 'brad adelberg', 'ben kao', 'rajeev motwani', 'kamesh munagala', 'itaru nishizawa', 'jennifer widom', 'samuel madden', 'miguel ferreira', 'sanjay agrawal', 'lubor kollár', 'arunprasad p. marathe', 'vivek r. narasayya', 'manoj syamala', 'amr el abbadi', 'sam toueg', 'françois bry', 'serge abiteboul', 'angela bonifati', 'gregory cobena', 'ioana manolescu', 'tova milo', 'asaf adi', 'david botzer', 'opher etzion', 'tali yatzkar-haham', 'omar benjelloun', 'bogdan cautis', 'nicoleta preda', 'sophie cluet', 'eric chu', 'paris c. kanellakis', 'rakesh agrawal', 'alexandre v. evfimievski', 'ramakrishnan srikant', 'gösta grahne', 'georg lausen', 'heinz uphoff', 'emmanuel waller', 'narain h. gehani', 'ashraf aboulnaga', 'johannes gehrke', 'dimitrios gunopulos', 'swarup acharya', 'michael j. franklin', 'stanley b. zdonik', 'j. srinivasan', 'tomasz imielinski', 'arun n. swami', 'phillip b. gibbons', 'viswanath poosala', 'sridhar ramaswamy', 'jerry kiernan', 'yirong xu', 'atul adya', 'robert gruber', 'barbara liskov', 'umesh maheshwari', 'alazel acheson', 'mason bendixen', 'josé a. blakeley', 'peter carlin', 'ebru ersan', 'jun fang', 'xiaowei jiang', 'christian kleinerman', 'balaji rathakrishnan', 'gideon schaller', 'beysim sezgin', 'ramachandran venkatesh', 'honggang zhang', 'foto n. afrati', 'chen li', 'jeffrey d. ullman', 'elke achtert', 'christian böhm', 'peer kröger', 'peter kunath', 'alexey pryakhin', 'matthias renz', 'beverly yang', 'kiran j. achyutuni', 'edward omiecinski', 'shamkant b. navathe', 'ralf rantzau', 'evimaria terzi', 'sibel adali', 'piero a. bonatti', 'maria luisa sapino', 'v. s. subrahmanian', 'k. selçuk candan', 'yannis papakonstantinou', 'dilys thomas', 'nabil r. adam', 'yelena yesha', 'edward l. wimmers', 'matthew denny', 'yanif ahmad', 'bradley berg', 'ugur çetintemel', 'mark humphrey', 'jeong-hyon hwang', 'anjali jhingran', 'anurag maskey', 'olga papaemmanouil', 'alex rasin', 'nesime tatbul', 'wenjuan xing', 'ying xing', 'joel l. wolf', 'philip s. yu', 'ilsoo ahn', 'richard t. snodgrass', 'alexander aiken', 'joseph m. hellerstein', 'william alexander', 'george p. copeland', 'divyakant agrawal', 'richard jeffers', 'shurug al-khalifa', 'cong yu', 'h. v. jagadish', 'dmitri asonov', 'ambuj k. singh', 'tolga yurek', 'kari alho', 'hannu peltonen', 'martti mäntylä', 'reijo sulonen', 'alexander borgida', 'mehmet altinel', 'qiong luo', 'sailesh krishnamurthy', 'c. mohan', 'hamid pirahesh', 'bruce g. lindsay', 'honguk woo', 'larry brown', 'jean l. bell', 'josé luis ambite', 'naveen ashish', 'greg barish', 'craig a. knoblock', 'steven minton', 'pragnesh jay modi', 'ion muslea', 'andrew philpot', 'sheila tejada', 'sihem amer-yahia', 'emiran curtmola', 'alin deutsch', 'per bendsen', 'sungran cho', 'laks v. s. lakshmanan', 'divesh srivastava', 'michael benedikt', 'chee yong chan', 'wenfei fan', 'juliana freire', 'stefan berchtold', 'bernhard braunmüller', 'daniel a. keim', 'shashank pandit', 'r. ananthanarayanan', 'vibby gottemukkala', 'wolfgang käfer', 'tobin j. lehman', 'andrea c. arpaci-dusseau', 'remzi h. arpaci-dusseau', 'david e. culler', 'david a. patterson', 'bin he', 'kevin chen-chuan chang', 'jochen van den bercken', 'jens-peter dittrich', 'bernhard seeger', 'won kim', 'hal berenson', 'philip a. bernstein', 'jim gray', 'jim melton', \"elizabeth j. o'neil\", \"patrick e. o'neil\", 'david aumueller', 'hong hai do', 'sabine massmann', 'erhard rahm', 'ron avnur', 'bruce lo', 'bhaskaran raman', 'vijayshankar raman', 'tali roth', 'kirk wylie', 'dushan z. badal', 'gerald j. popek', 'barbara t. blaustein', 'alan fekete', 'hongfei guo', 'raghu ramakrishnan', 'pradeep tamma', 'b. r. badrinath', 'krithi ramamritham', 'meichun hsu', 'bruce mann', 'j. richard swenson', 'dennis tsichritzis', 'david e. bakkom', 'james a. behymer', 'magdalena balazinska', 'hari balakrishnan', 'michael stonebraker', 'steven berson', 'leana golubchik', 'richard r. muntz', 'shahram ghandeharizadeh', 'xiangyu ju', 'claudio bettini', 'xiaoyang sean wang', 'elisa bertino', 'sushil jajodia', 'kevin s. beyer', 'latha s. colby', 'fatma özcan', 'yu xu', 'sundar saiprasad', 'bert van der linden', 'françois bancilhon', 'ann ellis bandurski', 'david k. jefferson', 'gautam bhargava', 'piyush goel', 'balakrishna r. iyer', 'anand bhaskar', 'chavdar botev', 'muthiah chettiar', 'lin guo', 'jayavel shanmugasundaram', 'feng shao', 'fan yang 0002', 'jay banerjee', 'hyoung-joo kim', 'suparna bhattacharya', 'karen brannon', 'inderpal narang', 'hui-i hsiao', 'mahadevan subramanian', 'anupam bhide', 'ambuj goyal', 'anant jhingran', 'gavin m. bierman', 'alexandros biliris', 'shaul dar', 'carsten binnig', 'donald kossmann', 'eric lo', 'chaitanya k. baru', 'amarnath gupta', 'bertram ludäscher', 'richard marciano', 'pavel velikhov', 'vincent chu', 'stanley y. w. su', 'joachim biskup', 'bernhard convent', 'umeshwar dayal', 'don s. batory', 'michael h. böhlen', 'linas bukauskas', 'curtis e. dyreson', 'peter baumann', 'andreas dehmel', 'paula furtado', 'roland ritsch', 'norbert widmann', 'per-åke larson', 'frank wm. tompa', 'aristides gionis', 'william j. mckenna', 'goetz graefe', 'roberto j. bayardo jr.', 'michael pizzo', 'björn blohsfeld', 'dieter korus', 'bruce i. blum', 'ralph d. semmel', 'jorge b. bocca', 'norbert beckmann', 'ralf schneider', 'catriel beeri', 'ronald fagin', 'john h. howard', 'philip bohannon', 'peter mcilroy', 'thomas bergstraesser', 'shankar pal', 'david shutt', 'florian krebs', 'karin kailing', 'arthur zimek', 'peter a. boncz', 'torsten grust', 'maurice van keulen', 'stefan manegold', 'jan rittinger', 'jens teubner', 'philippe bonnet', 'haran boral', 'israel gold', 'lori alperin resnick', 'karsten m. borgwardt', 'sebastian böttger', 'vinayak r. borkar', 'michael j. carey', 'dmitry lychagin', 'till westmann', 'kaustubh deshmukh', 'sunita sarawagi', 'sujoe bose', 'leonidas fegaras', 'adam bosworth', 'luc bouganim', 'cosmin cremarenco', 'françois dang ngoc', 'nicolas dieu', 'philippe pucheral', 'jihad boulos', 'nilesh n. dalvi', 'bhushan mandhani', 'shobhit mathur', 'christopher ré', 'dan suciu', 'ivan t. bowman', 'kenneth salem', 'daniele braga', 'alessandro campi', 'stefano ceri', 'alessandro raffio', 'marco brambilla', 'sara comai', 'marco dario', 'piero fraternali', 'roberto acerbis', 'aldo bongio', 'david a. brant', 'daniel p. miranker', 'carl-christian kanne', 'matthias brantner', 'guido moerkotte', 'reinhard braumandl', 'alfons kemper', 'raghavan komondoor', 's. seshadri', 'abraham silberschatz', 'glenn r. thompson', 'stéphane bressan', 'cheng hian goh', 'kofi fynn', 'marta jessica jakobisiak', 'karim hussein', 'henry b. kon', 'thomas lee', 'stuart e. madnick', 'tito pena', 'jessica qu', 'annie w. shum', 'michael siegel', 'raymond t. ng', 'eric a. brewer', 'sergey brin', 'james davis', 'craig silverstein', 'shalom tsur', 'thomas brinkhoff', 'alexander brodsky', 'yoram kornatzky', 'victor e. segal', 'jia chen', 'pavel a. exarkhopoulo', 'paul brown', 'kurt p. brown', 'miron livny', 'm. r. brown', 'r. g. g. cattell', 'n. suzuki', 'nicolas bruno', 'andris ambainis', 'robert spalek', 'ronald de wolf', 'eyal amir', 'robert krauthgamer', 'satish rao', 'serafino amoroso', 'edward lieblein', 'hisao yamada', 'alfred v. aho', 'scott aaronson', 'miklós ajtai', 'ittai abraham', 'yair bartal', 'ofer neiman', 'stephen c. johnson', 'dimitris achlioptas', 'paul beame', 'michael s. o. molloy', 'jin-yi cai', 'aaron clauset', 'david kempe', 'cristopher moore', 'assaf naor', 't. s. jayram', 'ravi kumar', 'd. sivakumar', 'yuval peres', 'federico ricci-tersenghi', 'akeo adachi', 'shigeki iwata', 'takumi kasai', 'jános komlós', 'endre szemerédi', 'nimrod megiddo', 'leonard m. adleman', 'qi cheng', 'ashish goel', 'ming-deh a. huang', 'pablo moisset de espanés', 'paul w. k. rothemund', 'adi akavia', 'oded goldreich', 'shafi goldwasser', 'dana moshkovitz', 'susanne albers', 'lene m. favrholdt', 'oliver giel', 'kenneth l. manders', 'naveen garg', 'stefano leonardi', 'micah adler', 'monika rauch henzinger', 'ilan adler', 'peter a. beling', 'markus schmidt', 'michael alekhnovich', 'jeff edmonds', 'jirí matousek', 'sanjeev arora', 'iannis tourlakis', 'eran halperin', 'richard m. karp', 'vijay v. vazirani', 'eli ben-sasson', 'alexander a. razborov', 'avi wigderson', 'jan johannsen', 'toniann pitassi', 'alasdair urquhart', 'luca de alfaro', 'rupak majumdar', 'eric allender', 'noga alon', 'baruch awerbuch', 'yossi azar', 'niv buchbinder', 'joseph naor', 'alok aggarwal', 'richard j. anderson', 'fan r. k. chung', 'ronald l. graham', 'bowen alpern', 'ashok k. chandra', 'marc snir', 'konstantin makarychev', 'yury makarychev', 'anna gál', 'gagan aggarwal', 'amos fiat', 'andrew v. goldberg', 'jason d. hartline', 'nicole immorlica', 'madhu sudan', 'leonidas j. guibas', 'james b. saxe', 'peter w. shor', 'asaf shapira', 'jon m. kleinberg', 'david p. williamson', 'wenceslas fernandez de la vega', 'ravi kannan', 'marek karpinski', 'ajit agrawal', 'philip n. klein', 'r. ravi', 'ron aharoni', 'paul erdös', 'nathan linial', 'stephen alstrup', 'gerth stølting brodal', 'theis rauhe', 'dorit aharonov', 'vaughan jones', 'zeph landau', 'yijie han', 'rajeev alur', 'hagit attiya', 'gadi taubenfeld', 'amnon ta-shma', 'luis von ahn', 'nicholas j. hopper', 'john langford', 'p. madhusudan', 'john e. hopcroft', 'mihalis yannakakis', 'nir ailon', 'bernard chazelle', 'eric bach', 'ashwin nayak', 'ashvin vishwanath', 'john watrous', 'julia kempe', 'umesh v. vazirani', 'moses charikar', 'alantha newman', 'leonard j. bass', 'paul r. young', 'saugata basu', 'matthew andrews', 'lisa zhang', 'dana angluin', 'james aspnes', 'jiang chen', 'yinghua wu', 'leslie g. valiant', 'elliot anshelevich', 'anirban dasgupta', 'éva tardos', 'tom wexler', 'spyridon antonakopoulos', 'noriko h. arai', 'michael a. bender', 'erik d. demaine', 'bryan holland-minkley', 'j. ian munro', 'eshrat arjomandi', 'michael j. fischer', 'nancy a. lynch', 'boris aronov', 'vladlen koltun', 'micha sharir', 'jános pach', 'gábor tardos', 'eden chlamtac', 'subhash khot', 'george karakostas', 'james r. lee', 'vijay arya', 'rohit khandekar', 'adam meyerson', 'vinayaka pandit', 'sunil arya', 'theocharis malamatos', 'david m. mount', 'takao asano', 'tomio hirata', 'tetsuo asano', 'takeshi tokuyama', 'gauri shah', 'jatin shah', 'mikhail j. atallah', 's. rao kosaraju', 'roy friedman', 'yonatan aumann', 'michael ben-or', 'giorgio ausiello', 'algirdas avizienis', 'avrim blum', 'santosh vempala', 'amir epstein', 'oded regev', 'amos israeli', 'yossi shiloach', 'robert d. kleinberg', 'shay kutten', 'david peleg', 'boaz patt-shamir', 'michael e. saks', 'anna r. karlin', 'steven phillips', 'eli upfal', 'edith cohen', 'haim kaplan', 'harald räcke', 'frank mcsherry', 'jared saia', 'yossi richter', 'lászló babai', 'd. yu. grigoryev', 'eugene m. luks', 'ákos seress', 'eitan bachmat', 'mihai badoiu', 'julia chuzhoy', 'piotr indyk', 'anastasios sidiropoulos', 'sariel har-peled', 'brenda s. baker', 'steven fortune', 'eric grosse', 'nikhil bansal', 'shuchi chawla', 'amit chakrabarti', 'baruch schieber', 'kirk pruhs', 'maxim sviridenko', 'amotz bar-noy', 'reuven bar-yehuda', 'ari freund', 'ran canetti', 'yishay mansour', 'shimon even', 'ziv bar-yossef', 'iordanis kerenidis', 'boaz barak', 'guy kindler', 'ronen shaltiel', 'benny sudakov', 'yehuda lindell', 'anup rao', 'greg barnes', 'uriel feige', 'howard barringer', 'ruurd kuiper', 'amir pnueli', 'david a. mix barrington', 'denis thérien', 'danny raz', 'howard j. karloff', 'rakesh vohra', 'yuval rabani', 'manor mendel', 'alexander i. barvinok', 'tugkan batu', 'funda ergün', 'joe kilian', 'avner magen', 'sofya raskhodnikova', 'ronitt rubinfeld', 'rahul sami', 'sanat k. basu', 'gérard m. baudet', 'richard pollack', 'marie-françoise roy', 'surender baswana', 'ramesh hariharan', 'sandeep sen', 'giuseppe di battista', 'luca vismara', 'sanjoy dasgupta', 'johan håstad', 'joan lawry', 'erik vee', 'luca becchetti', 'david maier', 'alberto o. mendelzon', 'yehoshua sagiv', 'rené beier', 'berthold vöcking', 'richard beigel', 'harry buhrman', 'lance fortnow', 'amos beimel', 'paz carmi', 'kobbi nissim', 'enav weinreb', 'stephen bellantoni', 'stephen a. cook', 'amir m. ben-amram', 'holger petersen', 'shai ben-david', 'edward k. blum', 'benny chor', 'adi shamir', 'manuel blum', 'robert w. floyd', 'vaughan r. pratt', 'ronald l. rivest', 'robert endre tarjan', 'tao jiang', 'ming li', 'john tromp', 'avinatan hassidim', 'sampath kannan', 'elan pavlov', 'vinod vaikuntanathan']\n"
          ],
          "name": "stdout"
        },
        {
          "output_type": "execute_result",
          "data": {
            "text/plain": [
              "1121"
            ]
          },
          "metadata": {
            "tags": []
          },
          "execution_count": 73
        }
      ]
    },
    {
      "cell_type": "code",
      "metadata": {
        "colab": {
          "base_uri": "https://localhost:8080/"
        },
        "id": "9arxdLkkSNSa",
        "outputId": "4532d3fd-1d05-49d8-b627-3dee7e7f9e25"
      },
      "source": [
        "#Créer un dataframe représentant les auteurs\n",
        "author_map = {x:i for i,x in enumerate(all_authors)}\n",
        "# attribuer à chaque auteur un identifiant ‘id_auteur’\n",
        "list_name=author_map.keys()\n",
        "list_ID=author_map.values()\n",
        "author_dataframe =pd.DataFrame(\n",
        "    {'Author_ID': list_ID,\n",
        "     'Authors': list_name,\n",
        "        })\n",
        "print(author_map.values())\n",
        "print(author_dataframe)"
      ],
      "execution_count": null,
      "outputs": [
        {
          "output_type": "stream",
          "text": [
            "author_map {'krisztian balog': 0, 'leif azzopardi': 1, 'maarten de rijke': 2, 'brian t. bartell': 3, 'garrison w. cottrell': 4, 'richard k. belew': 5, 'rie kubota ando': 6, 'christine barthes': 7, 'pierre glize': 8, 'joan c. bartlett': 9, 'elaine g. toms': 10, 'm. bärtschi': 11, 'hans-peter frei': 12, 'justin basilico': 13, 'thomas hofmann': 14, 'holger bast': 15, 'debapriyo majumdar': 16, 'ingmar weber': 17, 'madeleine bates': 18, 'robert j. bobrow': 19, 'mayank bawa': 20, 'gurmeet singh manku': 21, 'prabhakar raghavan': 22, 'anthony q. baxter': 23, 'rowland r. johnson': 24, 'jan de beer': 25, 'marie-francine moens': 26, 'steven m. beitzel': 27, 'eric c. jensen': 28, 'abdur chowdhury': 29, 'david a. grossman': 30, 'ophir frieder': 31, 'greg pass': 32, 'nicholas j. belkin': 33, 'barbara h. kwasnik': 34, 'gordon bell': 35, 'jim gemmell': 36, 'roger lueder': 37, 'timothy a. h. bell': 38, 'alistair moffat': 39, 'ijsbrand jan aalbersberg': 40, 'jeffery antoniuk': 41, 'mario a. nascimento': 42, 'avi arampatzis': 43, 'andré van hameren': 44, 'shlomo argamon': 45, 'gady agam': 46, 'david d. lewis': 47, 'g. sohn': 48, 'ellen m. voorhees': 49, 'eugene agichtein': 50, 'eric brill': 51, 'susan t. dumais': 52, 'robert a. amsler': 53, 'razvan stefan bot': 54, 'robert ragno': 55, 'david m. arnow': 56, 'aaron m. tenenbaum': 57, 'connie wu': 58, 'silviu cucerzan': 59, 'javier artiles': 60, 'julio gonzalo': 61, 'felisa verdejo': 62, 'maristella agosti': 63, 'maurizio masotti': 64, 'javed a. aslam': 65, 'meredith frost': 66, 's. kagan agun': 67, 'khurshid ahmad': 68, 'bogdan vrusias': 69, 'paulo c. f. de oliveira': 70, 'mark h. montague': 71, 'akiko n. aizawa': 72, 'virgiliu pavlu': 73, 'robert savell': 74, 'deniz aktug': 75, 'fazli can': 76, 'emine yilmaz': 77, 'barbara allan': 78, 'james allan': 79, 'ben carterette': 80, 'joshua lewis': 81, 'rahul gupta': 82, 'vikas khandelwal': 83, 'y. alp aslandogan': 84, 'clement t. yu': 85, 'hema raghavan': 86, 'courtney wade': 87, 'alvaro bolivar': 88, 'azreen azman': 89, 'iadh ounis': 90, 'bryce allen': 91, 'm. k. azmoodeh': 92, 'simon h. lavington': 93, 'm. standring': 94, 'valerie s. allen': 95, 'abe lederman': 96, 'mark girolami': 97, 'malcolm crowe': 98, 'omar alonso': 99, 'michael gertz': 100, 'keith van rijsbergen': 101, 'cornelis joost van rijsbergen': 102, 'massih-reza amini': 103, 'patrick gallinari': 104, 'claudine santos badue': 105, 'ramurti a. barbosa': 106, 'paulo braz golgher': 107, 'berthier a. ribeiro-neto': 108, 'nivio ziviani': 109, 'einat amitay': 110, 'david carmel': 111, 'ronny lempel': 112, 'aya soffer': 113, 'ricardo a. baeza-yates': 114, 'paolo boldi': 115, 'carlos castillo': 116, \"nadav har'el\": 117, 'ron sivan': 118, 'ion androutsopoulos': 119, 'john koutsias': 120, 'konstantinos chandrinos': 121, 'constantine d. spyropoulos': 122, 'gaston h. gonnet': 123, 'ralitsa angelova': 124, 'gerhard weikum': 125, 'dirk bahle': 126, 'hugh e. williams': 127, 'justin zobel': 128, 'vo ngoc anh': 129, 'wilma bainbridge': 130, 'ryen w. white': 131, 'douglas w. oard': 132, 'peter g. anick': 133, 'jeffrey d. brennan': 134, 'rex a. flynn': 135, 'david r. hanssen': 136, 'bryan alvey': 137, 'jeffrey m. robbins': 138, 'matthias bender': 139, 'sebastian michel': 140, 'peter triantafillou': 141, 'christian zimmer': 142, 'aleksander kolcz': 143, 'diane kelly': 144, 'g. kim': 145, 'ja-young kim': 146, 'hyuk-jin lee': 147, 'gheorghe muresan': 148, 'muh-chyun (morris) tang': 149, 'xiao-jun yuan': 150, 'colleen cool': 151, 'paul n. bennett': 152, 'eric horvitz': 153, 'adam l. berger': 154, 'rich caruana': 155, 'david cohn': 156, 'dayne freitag': 157, 'vibhu o. mittal': 158, 'catherine berrut': 159, 'yves chiaramella': 160, 'patrick palmer': 161, 'chris buckley': 162, 'stamatina betsi': 163, 'mounia lalmas': 164, 'anastasios tombros': 165, 'theodora tsikrika': 166, 'edward a. fox': 167, 'peter biebricher': 168, 'norbert fuhr': 169, 'gerhard lustig': 170, 'michael schwantner': 171, 'gerhard knorz': 172, 'darrin dimmick': 173, 'ian soboroff': 174, 'horst biller': 175, 'a. f. lewit': 176, 'bodo billerbeck': 177, 'ella bingham': 178, 'jukka kuusisto': 179, 'krista lagus': 180, 'peter bruza': 181, 'linda c. van der gaag': 182, 'roi blanco': 183, 'alvaro barreiro': 184, 'tobias blanke': 185, 'david m. blei': 186, 'michael i. jordan': 187, 'duncan a. buell': 188, 'donald h. kraft': 189, 'pedro j. moreno': 190, 'm. j. blosseville': 191, 'georges hébrail': 192, 'm. g. monteil': 193, 'n. pénot': 194, 'forbes j. burkowski': 195, 'phil blunsom': 196, 'krystle kocik': 197, 'james r. curran': 198, 'david bodoff': 199, 'pu li': 200, 'stefan büttcher': 201, 'charles l. a. clarke': 202, 'brad lushman': 203, 'ulrich bohnacker': 204, 'ingrid renz': 205, 'peter bollmann': 206, 'nikolai buzikashvili': 207, 'xin fu': 208, 'robert mcarthur': 209, 'simon dennis': 210, 'zhenmei gu': 211, 'ming luo': 212, 'friedbert jochum': 213, 'u. reiner': 214, 'v. weissmarm': 215, 'horst zuse': 216, 'ben he': 217, 'e. konrad': 218, 'vijay v. raghavan': 219, 'xiang ji': 220, 'wei xu': 221, 's. k. michael wong': 222, 'susan bonzi': 223, 'elizabeth d. liddy': 224, 'lijuan cai': 225, 'deng cai': 226, 'xiaofei he': 227, 'jiawei han': 228, 'ji-rong wen': 229, 'wei-ying ma': 230, 'shipeng yu': 231, 'abraham bookstein': 232, 'shmuel t. klein': 233, 'james p. callan': 234, 'w. bruce croft': 235, 'f. r. campagnoni': 236, 'kate ehrlich': 237, 'christine l. borgman': 238, 'seyit kocberber': 239, 'erman balcik': 240, 'cihan kaynak': 241, 'huseyin cagdas ocalan': 242, 'onur m. vursavas': 243, 'esen a. ozkarahan': 244, 'donald owen case': 245, 'charles t. meadow': 246, 'patrick bosc': 247, 'michèle courant': 248, 'sophie robin': 249, 'm. galibourg': 250, 'john f. canny': 251, 'rodrigo a. botafogo': 252, 'pedro cano': 253, 'markus koppenberger': 254, 'nicolas wack': 255, 'yunbo cao': 256, 'jun xu': 257, 'tie-yan liu': 258, 'hang li': 259, 'yalou huang': 260, 'hsiao-wuen hon': 261, 'raymond f. boyce': 262, 'donald d. chamberlin': 263, 'michael hammer': 264, 'w. frank king iii': 265, 'sandra carberry': 266, 'stephanie elzer': 267, 'seniz demir': 268, 'oisín boydell': 269, 'barry smyth': 270, 'cathal gurrin': 271, 'alan f. smeaton': 272, 'ronald j. brachman': 273, 'deborah l. mcguinness': 274, 'yoëlle s. maarek': 275, 'matan mandelbrod': 276, 'yosi mass': 277, 'elad yom-tov': 278, 'adam darlow': 279, 'dan pelleg': 280, 'gustavo carneiro': 281, 'nuno vasconcelos': 282, 'nieves r. brisaboa': 283, 'antonio fariña': 284, 'gonzalo navarro': 285, 'josé r. paramá': 286, 'john m. carroll': 287, 'elana broch': 288, 'ramesh k. sitaraman': 289, 'andrei z. broder': 290, 'desislava petkova': 291, 'vitor rocha de carvalho': 292, 'william w. cohen': 293, 'eric w. brown': 294, 'steven c. cater': 295, 'james caverlee': 296, 'ling liu': 297, 'joonsoo bae': 298, 'augusto celentano': 299, 'maria grazia fugini': 300, 'silvano pozzi': 301, 'marie-france bruandet': 302, 'kian ming adam chai': 303, 'joyce y. chai': 304, 'tyler baldwin': 305, 'chen zhang': 306, 'hai leong chieu': 307, 'hwee tou ng': 308, 'soumen chakrabarti': 309, 'mukul joshi': 310, 'vivek tawde': 311, 'matthew chalmers': 312, 'paul chitson': 313, 'raman chandrasekar': 314, 'harr chen': 315, 'simon corston-oliver': 316, 'jae-woo chang': 317, 'joon ho lee': 318, 'yoon-joon lee': 319, 'paul j. chase': 320, 'hsinchun chen': 321, 'vasant dhar': 322, 'ing-xiang chen': 323, 'jui-chi ho': 324, 'cheng-zen yang': 325, 'david r. karger': 326, 'mao chen': 327, 'andrea s. lapaugh': 328, 'jaswinder pal singh': 329, 'zheng chen': 330, 'shengping liu': 331, 'liu wenyin': 332, 'geguang pu': 333, 'pu-jen cheng': 334, 'jei-wen teng': 335, 'ruey-cheng chen': 336, 'jenq-haur wang': 337, 'wen-hsiang lu': 338, 'lee-feng chien': 339, 'emile c. chi': 340, 'carol friedman': 341, 'naomi sager': 342, 'margaret s. lyman': 343, 'bruno defude': 344, 'd. kerkouba': 345, 'jian-yun nie': 346, 'yoong keok lee': 347, 'taurai tapiwa chinenyanga': 348, 'nicholas kushmerick': 349, 'paul-alexandru chirita': 350, 'wolfgang nejdl': 351, 'raluca paiu': 352, 'christian kohlschütter': 353, 'ikkyu choi': 354, 'minkoo kim': 355, 'prashant choudhari': 356, 'hasan davulcu': 357, 'abhishek joglekar': 358, 'akshay more': 359, 'saikat mukherjee': 360, 'supriya patil': 361, 'i. v. ramakrishnan': 362, 'yaacov choueka': 363, 'aviezri s. fraenkel': 364, 'e. segal': 365, 'yehoshua perl': 366, 'm. catherine mccabe': 367, 'james e. allchin': 368, 'arthur m. keller': 369, 'gio wiederhold': 370, 'rafael alonso': 371, 'henry f. korth': 372, 'hussien aly': 373, 'z. meral özsoyoglu': 374, 'anastasia analyti': 375, 'sakti pramanik': 376, 'richard anderson': 377, 'gopalan arun': 378, 'richard frank': 379, 'todd a. anderson': 380, 'yuri breitbart': 381, 'avishai wool': 382, 'periklis andritsos': 383, 'renée j. miller': 384, 'panayiotis tsaparas': 385, 'mihael ankerst': 386, 'markus m. breunig': 387, 'hans-peter kriegel': 388, 'jörg sander': 389, 'jesse anton': 390, 'lawrence jacobs': 391, 'xiang liu': 392, 'jordan parker': 393, 'zheng zeng': 394, 'tie zhong': 395, 'eman anwar': 396, 'l. maugis': 397, 'sharma chakravarthy': 398, 'arvind arasu': 399, 'hector garcia-molina': 400, 'walid g. aref': 401, 'daniel barbará': 402, 'padmavathi vallabhaneni': 403, 'lars arge': 404, 'mark de berg': 405, 'herman j. haverkort': 406, 'ke yi': 407, 'ramesh c. agarwal': 408, 'vassilis athitsos': 409, 'marios hadjieleftheriou': 410, 'george kollios': 411, 'stan sclaroff': 412, 'paolo atzeni': 413, 'riccardo torlone': 414, 'kamar aulakh': 415, 'ahmed ayad': 416, 'jeffrey f. naughton': 417, 'brian babcock': 418, 'surajit chaudhuri': 419, 'gautam das': 420, 'chris olston': 421, 'shivnath babu': 422, 'pedro bizarro': 423, 'david j. dewitt': 424, 'minos n. garofalakis': 425, 'rajeev rastogi': 426, 'charu c. aggarwal': 427, 'daniel j. abadi': 428, 'mitch cherniack': 429, 'brad adelberg': 430, 'ben kao': 431, 'rajeev motwani': 432, 'kamesh munagala': 433, 'itaru nishizawa': 434, 'jennifer widom': 435, 'samuel madden': 436, 'miguel ferreira': 437, 'sanjay agrawal': 438, 'lubor kollár': 439, 'arunprasad p. marathe': 440, 'vivek r. narasayya': 441, 'manoj syamala': 442, 'amr el abbadi': 443, 'sam toueg': 444, 'françois bry': 445, 'serge abiteboul': 446, 'angela bonifati': 447, 'gregory cobena': 448, 'ioana manolescu': 449, 'tova milo': 450, 'asaf adi': 451, 'david botzer': 452, 'opher etzion': 453, 'tali yatzkar-haham': 454, 'omar benjelloun': 455, 'bogdan cautis': 456, 'nicoleta preda': 457, 'sophie cluet': 458, 'eric chu': 459, 'paris c. kanellakis': 460, 'rakesh agrawal': 461, 'alexandre v. evfimievski': 462, 'ramakrishnan srikant': 463, 'gösta grahne': 464, 'georg lausen': 465, 'heinz uphoff': 466, 'emmanuel waller': 467, 'narain h. gehani': 468, 'ashraf aboulnaga': 469, 'johannes gehrke': 470, 'dimitrios gunopulos': 471, 'swarup acharya': 472, 'michael j. franklin': 473, 'stanley b. zdonik': 474, 'j. srinivasan': 475, 'tomasz imielinski': 476, 'arun n. swami': 477, 'phillip b. gibbons': 478, 'viswanath poosala': 479, 'sridhar ramaswamy': 480, 'jerry kiernan': 481, 'yirong xu': 482, 'atul adya': 483, 'robert gruber': 484, 'barbara liskov': 485, 'umesh maheshwari': 486, 'alazel acheson': 487, 'mason bendixen': 488, 'josé a. blakeley': 489, 'peter carlin': 490, 'ebru ersan': 491, 'jun fang': 492, 'xiaowei jiang': 493, 'christian kleinerman': 494, 'balaji rathakrishnan': 495, 'gideon schaller': 496, 'beysim sezgin': 497, 'ramachandran venkatesh': 498, 'honggang zhang': 499, 'foto n. afrati': 500, 'chen li': 501, 'jeffrey d. ullman': 502, 'elke achtert': 503, 'christian böhm': 504, 'peer kröger': 505, 'peter kunath': 506, 'alexey pryakhin': 507, 'matthias renz': 508, 'beverly yang': 509, 'kiran j. achyutuni': 510, 'edward omiecinski': 511, 'shamkant b. navathe': 512, 'ralf rantzau': 513, 'evimaria terzi': 514, 'sibel adali': 515, 'piero a. bonatti': 516, 'maria luisa sapino': 517, 'v. s. subrahmanian': 518, 'k. selçuk candan': 519, 'yannis papakonstantinou': 520, 'dilys thomas': 521, 'nabil r. adam': 522, 'yelena yesha': 523, 'edward l. wimmers': 524, 'matthew denny': 525, 'yanif ahmad': 526, 'bradley berg': 527, 'ugur çetintemel': 528, 'mark humphrey': 529, 'jeong-hyon hwang': 530, 'anjali jhingran': 531, 'anurag maskey': 532, 'olga papaemmanouil': 533, 'alex rasin': 534, 'nesime tatbul': 535, 'wenjuan xing': 536, 'ying xing': 537, 'joel l. wolf': 538, 'philip s. yu': 539, 'ilsoo ahn': 540, 'richard t. snodgrass': 541, 'alexander aiken': 542, 'joseph m. hellerstein': 543, 'william alexander': 544, 'george p. copeland': 545, 'divyakant agrawal': 546, 'richard jeffers': 547, 'shurug al-khalifa': 548, 'cong yu': 549, 'h. v. jagadish': 550, 'dmitri asonov': 551, 'ambuj k. singh': 552, 'tolga yurek': 553, 'kari alho': 554, 'hannu peltonen': 555, 'martti mäntylä': 556, 'reijo sulonen': 557, 'alexander borgida': 558, 'mehmet altinel': 559, 'qiong luo': 560, 'sailesh krishnamurthy': 561, 'c. mohan': 562, 'hamid pirahesh': 563, 'bruce g. lindsay': 564, 'honguk woo': 565, 'larry brown': 566, 'jean l. bell': 567, 'josé luis ambite': 568, 'naveen ashish': 569, 'greg barish': 570, 'craig a. knoblock': 571, 'steven minton': 572, 'pragnesh jay modi': 573, 'ion muslea': 574, 'andrew philpot': 575, 'sheila tejada': 576, 'sihem amer-yahia': 577, 'emiran curtmola': 578, 'alin deutsch': 579, 'per bendsen': 580, 'sungran cho': 581, 'laks v. s. lakshmanan': 582, 'divesh srivastava': 583, 'michael benedikt': 584, 'chee yong chan': 585, 'wenfei fan': 586, 'juliana freire': 587, 'stefan berchtold': 588, 'bernhard braunmüller': 589, 'daniel a. keim': 590, 'shashank pandit': 591, 'r. ananthanarayanan': 592, 'vibby gottemukkala': 593, 'wolfgang käfer': 594, 'tobin j. lehman': 595, 'andrea c. arpaci-dusseau': 596, 'remzi h. arpaci-dusseau': 597, 'david e. culler': 598, 'david a. patterson': 599, 'bin he': 600, 'kevin chen-chuan chang': 601, 'jochen van den bercken': 602, 'jens-peter dittrich': 603, 'bernhard seeger': 604, 'won kim': 605, 'hal berenson': 606, 'philip a. bernstein': 607, 'jim gray': 608, 'jim melton': 609, \"elizabeth j. o'neil\": 610, \"patrick e. o'neil\": 611, 'david aumueller': 612, 'hong hai do': 613, 'sabine massmann': 614, 'erhard rahm': 615, 'ron avnur': 616, 'bruce lo': 617, 'bhaskaran raman': 618, 'vijayshankar raman': 619, 'tali roth': 620, 'kirk wylie': 621, 'dushan z. badal': 622, 'gerald j. popek': 623, 'barbara t. blaustein': 624, 'alan fekete': 625, 'hongfei guo': 626, 'raghu ramakrishnan': 627, 'pradeep tamma': 628, 'b. r. badrinath': 629, 'krithi ramamritham': 630, 'meichun hsu': 631, 'bruce mann': 632, 'j. richard swenson': 633, 'dennis tsichritzis': 634, 'david e. bakkom': 635, 'james a. behymer': 636, 'magdalena balazinska': 637, 'hari balakrishnan': 638, 'michael stonebraker': 639, 'steven berson': 640, 'leana golubchik': 641, 'richard r. muntz': 642, 'shahram ghandeharizadeh': 643, 'xiangyu ju': 644, 'claudio bettini': 645, 'xiaoyang sean wang': 646, 'elisa bertino': 647, 'sushil jajodia': 648, 'kevin s. beyer': 649, 'latha s. colby': 650, 'fatma özcan': 651, 'yu xu': 652, 'sundar saiprasad': 653, 'bert van der linden': 654, 'françois bancilhon': 655, 'ann ellis bandurski': 656, 'david k. jefferson': 657, 'gautam bhargava': 658, 'piyush goel': 659, 'balakrishna r. iyer': 660, 'anand bhaskar': 661, 'chavdar botev': 662, 'muthiah chettiar': 663, 'lin guo': 664, 'jayavel shanmugasundaram': 665, 'feng shao': 666, 'fan yang 0002': 667, 'jay banerjee': 668, 'hyoung-joo kim': 669, 'suparna bhattacharya': 670, 'karen brannon': 671, 'inderpal narang': 672, 'hui-i hsiao': 673, 'mahadevan subramanian': 674, 'anupam bhide': 675, 'ambuj goyal': 676, 'anant jhingran': 677, 'gavin m. bierman': 678, 'alexandros biliris': 679, 'shaul dar': 680, 'carsten binnig': 681, 'donald kossmann': 682, 'eric lo': 683, 'chaitanya k. baru': 684, 'amarnath gupta': 685, 'bertram ludäscher': 686, 'richard marciano': 687, 'pavel velikhov': 688, 'vincent chu': 689, 'stanley y. w. su': 690, 'joachim biskup': 691, 'bernhard convent': 692, 'umeshwar dayal': 693, 'don s. batory': 694, 'michael h. böhlen': 695, 'linas bukauskas': 696, 'curtis e. dyreson': 697, 'peter baumann': 698, 'andreas dehmel': 699, 'paula furtado': 700, 'roland ritsch': 701, 'norbert widmann': 702, 'per-åke larson': 703, 'frank wm. tompa': 704, 'aristides gionis': 705, 'william j. mckenna': 706, 'goetz graefe': 707, 'roberto j. bayardo jr.': 708, 'michael pizzo': 709, 'björn blohsfeld': 710, 'dieter korus': 711, 'bruce i. blum': 712, 'ralph d. semmel': 713, 'jorge b. bocca': 714, 'norbert beckmann': 715, 'ralf schneider': 716, 'catriel beeri': 717, 'ronald fagin': 718, 'john h. howard': 719, 'philip bohannon': 720, 'peter mcilroy': 721, 'thomas bergstraesser': 722, 'shankar pal': 723, 'david shutt': 724, 'florian krebs': 725, 'karin kailing': 726, 'arthur zimek': 727, 'peter a. boncz': 728, 'torsten grust': 729, 'maurice van keulen': 730, 'stefan manegold': 731, 'jan rittinger': 732, 'jens teubner': 733, 'philippe bonnet': 734, 'haran boral': 735, 'israel gold': 736, 'lori alperin resnick': 737, 'karsten m. borgwardt': 738, 'sebastian böttger': 739, 'vinayak r. borkar': 740, 'michael j. carey': 741, 'dmitry lychagin': 742, 'till westmann': 743, 'kaustubh deshmukh': 744, 'sunita sarawagi': 745, 'sujoe bose': 746, 'leonidas fegaras': 747, 'adam bosworth': 748, 'luc bouganim': 749, 'cosmin cremarenco': 750, 'françois dang ngoc': 751, 'nicolas dieu': 752, 'philippe pucheral': 753, 'jihad boulos': 754, 'nilesh n. dalvi': 755, 'bhushan mandhani': 756, 'shobhit mathur': 757, 'christopher ré': 758, 'dan suciu': 759, 'ivan t. bowman': 760, 'kenneth salem': 761, 'daniele braga': 762, 'alessandro campi': 763, 'stefano ceri': 764, 'alessandro raffio': 765, 'marco brambilla': 766, 'sara comai': 767, 'marco dario': 768, 'piero fraternali': 769, 'roberto acerbis': 770, 'aldo bongio': 771, 'david a. brant': 772, 'daniel p. miranker': 773, 'carl-christian kanne': 774, 'matthias brantner': 775, 'guido moerkotte': 776, 'reinhard braumandl': 777, 'alfons kemper': 778, 'raghavan komondoor': 779, 's. seshadri': 780, 'abraham silberschatz': 781, 'glenn r. thompson': 782, 'stéphane bressan': 783, 'cheng hian goh': 784, 'kofi fynn': 785, 'marta jessica jakobisiak': 786, 'karim hussein': 787, 'henry b. kon': 788, 'thomas lee': 789, 'stuart e. madnick': 790, 'tito pena': 791, 'jessica qu': 792, 'annie w. shum': 793, 'michael siegel': 794, 'raymond t. ng': 795, 'eric a. brewer': 796, 'sergey brin': 797, 'james davis': 798, 'craig silverstein': 799, 'shalom tsur': 800, 'thomas brinkhoff': 801, 'alexander brodsky': 802, 'yoram kornatzky': 803, 'victor e. segal': 804, 'jia chen': 805, 'pavel a. exarkhopoulo': 806, 'paul brown': 807, 'kurt p. brown': 808, 'miron livny': 809, 'm. r. brown': 810, 'r. g. g. cattell': 811, 'n. suzuki': 812, 'nicolas bruno': 813, 'andris ambainis': 814, 'robert spalek': 815, 'ronald de wolf': 816, 'eyal amir': 817, 'robert krauthgamer': 818, 'satish rao': 819, 'serafino amoroso': 820, 'edward lieblein': 821, 'hisao yamada': 822, 'alfred v. aho': 823, 'scott aaronson': 824, 'miklós ajtai': 825, 'ittai abraham': 826, 'yair bartal': 827, 'ofer neiman': 828, 'stephen c. johnson': 829, 'dimitris achlioptas': 830, 'paul beame': 831, 'michael s. o. molloy': 832, 'jin-yi cai': 833, 'aaron clauset': 834, 'david kempe': 835, 'cristopher moore': 836, 'assaf naor': 837, 't. s. jayram': 838, 'ravi kumar': 839, 'd. sivakumar': 840, 'yuval peres': 841, 'federico ricci-tersenghi': 842, 'akeo adachi': 843, 'shigeki iwata': 844, 'takumi kasai': 845, 'jános komlós': 846, 'endre szemerédi': 847, 'nimrod megiddo': 848, 'leonard m. adleman': 849, 'qi cheng': 850, 'ashish goel': 851, 'ming-deh a. huang': 852, 'pablo moisset de espanés': 853, 'paul w. k. rothemund': 854, 'adi akavia': 855, 'oded goldreich': 856, 'shafi goldwasser': 857, 'dana moshkovitz': 858, 'susanne albers': 859, 'lene m. favrholdt': 860, 'oliver giel': 861, 'kenneth l. manders': 862, 'naveen garg': 863, 'stefano leonardi': 864, 'micah adler': 865, 'monika rauch henzinger': 866, 'ilan adler': 867, 'peter a. beling': 868, 'markus schmidt': 869, 'michael alekhnovich': 870, 'jeff edmonds': 871, 'jirí matousek': 872, 'sanjeev arora': 873, 'iannis tourlakis': 874, 'eran halperin': 875, 'richard m. karp': 876, 'vijay v. vazirani': 877, 'eli ben-sasson': 878, 'alexander a. razborov': 879, 'avi wigderson': 880, 'jan johannsen': 881, 'toniann pitassi': 882, 'alasdair urquhart': 883, 'luca de alfaro': 884, 'rupak majumdar': 885, 'eric allender': 886, 'noga alon': 887, 'baruch awerbuch': 888, 'yossi azar': 889, 'niv buchbinder': 890, 'joseph naor': 891, 'alok aggarwal': 892, 'richard j. anderson': 893, 'fan r. k. chung': 894, 'ronald l. graham': 895, 'bowen alpern': 896, 'ashok k. chandra': 897, 'marc snir': 898, 'konstantin makarychev': 899, 'yury makarychev': 900, 'anna gál': 901, 'gagan aggarwal': 902, 'amos fiat': 903, 'andrew v. goldberg': 904, 'jason d. hartline': 905, 'nicole immorlica': 906, 'madhu sudan': 907, 'leonidas j. guibas': 908, 'james b. saxe': 909, 'peter w. shor': 910, 'asaf shapira': 911, 'jon m. kleinberg': 912, 'david p. williamson': 913, 'wenceslas fernandez de la vega': 914, 'ravi kannan': 915, 'marek karpinski': 916, 'ajit agrawal': 917, 'philip n. klein': 918, 'r. ravi': 919, 'ron aharoni': 920, 'paul erdös': 921, 'nathan linial': 922, 'stephen alstrup': 923, 'gerth stølting brodal': 924, 'theis rauhe': 925, 'dorit aharonov': 926, 'vaughan jones': 927, 'zeph landau': 928, 'yijie han': 929, 'rajeev alur': 930, 'hagit attiya': 931, 'gadi taubenfeld': 932, 'amnon ta-shma': 933, 'luis von ahn': 934, 'nicholas j. hopper': 935, 'john langford': 936, 'p. madhusudan': 937, 'john e. hopcroft': 938, 'mihalis yannakakis': 939, 'nir ailon': 940, 'bernard chazelle': 941, 'eric bach': 942, 'ashwin nayak': 943, 'ashvin vishwanath': 944, 'john watrous': 945, 'julia kempe': 946, 'umesh v. vazirani': 947, 'moses charikar': 948, 'alantha newman': 949, 'leonard j. bass': 950, 'paul r. young': 951, 'saugata basu': 952, 'matthew andrews': 953, 'lisa zhang': 954, 'dana angluin': 955, 'james aspnes': 956, 'jiang chen': 957, 'yinghua wu': 958, 'leslie g. valiant': 959, 'elliot anshelevich': 960, 'anirban dasgupta': 961, 'éva tardos': 962, 'tom wexler': 963, 'spyridon antonakopoulos': 964, 'noriko h. arai': 965, 'michael a. bender': 966, 'erik d. demaine': 967, 'bryan holland-minkley': 968, 'j. ian munro': 969, 'eshrat arjomandi': 970, 'michael j. fischer': 971, 'nancy a. lynch': 972, 'boris aronov': 973, 'vladlen koltun': 974, 'micha sharir': 975, 'jános pach': 976, 'gábor tardos': 977, 'eden chlamtac': 978, 'subhash khot': 979, 'george karakostas': 980, 'james r. lee': 981, 'vijay arya': 982, 'rohit khandekar': 983, 'adam meyerson': 984, 'vinayaka pandit': 985, 'sunil arya': 986, 'theocharis malamatos': 987, 'david m. mount': 988, 'takao asano': 989, 'tomio hirata': 990, 'tetsuo asano': 991, 'takeshi tokuyama': 992, 'gauri shah': 993, 'jatin shah': 994, 'mikhail j. atallah': 995, 's. rao kosaraju': 996, 'roy friedman': 997, 'yonatan aumann': 998, 'michael ben-or': 999, 'giorgio ausiello': 1000, 'algirdas avizienis': 1001, 'avrim blum': 1002, 'santosh vempala': 1003, 'amir epstein': 1004, 'oded regev': 1005, 'amos israeli': 1006, 'yossi shiloach': 1007, 'robert d. kleinberg': 1008, 'shay kutten': 1009, 'david peleg': 1010, 'boaz patt-shamir': 1011, 'michael e. saks': 1012, 'anna r. karlin': 1013, 'steven phillips': 1014, 'eli upfal': 1015, 'edith cohen': 1016, 'haim kaplan': 1017, 'harald räcke': 1018, 'frank mcsherry': 1019, 'jared saia': 1020, 'yossi richter': 1021, 'lászló babai': 1022, 'd. yu. grigoryev': 1023, 'eugene m. luks': 1024, 'ákos seress': 1025, 'eitan bachmat': 1026, 'mihai badoiu': 1027, 'julia chuzhoy': 1028, 'piotr indyk': 1029, 'anastasios sidiropoulos': 1030, 'sariel har-peled': 1031, 'brenda s. baker': 1032, 'steven fortune': 1033, 'eric grosse': 1034, 'nikhil bansal': 1035, 'shuchi chawla': 1036, 'amit chakrabarti': 1037, 'baruch schieber': 1038, 'kirk pruhs': 1039, 'maxim sviridenko': 1040, 'amotz bar-noy': 1041, 'reuven bar-yehuda': 1042, 'ari freund': 1043, 'ran canetti': 1044, 'yishay mansour': 1045, 'shimon even': 1046, 'ziv bar-yossef': 1047, 'iordanis kerenidis': 1048, 'boaz barak': 1049, 'guy kindler': 1050, 'ronen shaltiel': 1051, 'benny sudakov': 1052, 'yehuda lindell': 1053, 'anup rao': 1054, 'greg barnes': 1055, 'uriel feige': 1056, 'howard barringer': 1057, 'ruurd kuiper': 1058, 'amir pnueli': 1059, 'david a. mix barrington': 1060, 'denis thérien': 1061, 'danny raz': 1062, 'howard j. karloff': 1063, 'rakesh vohra': 1064, 'yuval rabani': 1065, 'manor mendel': 1066, 'alexander i. barvinok': 1067, 'tugkan batu': 1068, 'funda ergün': 1069, 'joe kilian': 1070, 'avner magen': 1071, 'sofya raskhodnikova': 1072, 'ronitt rubinfeld': 1073, 'rahul sami': 1074, 'sanat k. basu': 1075, 'gérard m. baudet': 1076, 'richard pollack': 1077, 'marie-françoise roy': 1078, 'surender baswana': 1079, 'ramesh hariharan': 1080, 'sandeep sen': 1081, 'giuseppe di battista': 1082, 'luca vismara': 1083, 'sanjoy dasgupta': 1084, 'johan håstad': 1085, 'joan lawry': 1086, 'erik vee': 1087, 'luca becchetti': 1088, 'david maier': 1089, 'alberto o. mendelzon': 1090, 'yehoshua sagiv': 1091, 'rené beier': 1092, 'berthold vöcking': 1093, 'richard beigel': 1094, 'harry buhrman': 1095, 'lance fortnow': 1096, 'amos beimel': 1097, 'paz carmi': 1098, 'kobbi nissim': 1099, 'enav weinreb': 1100, 'stephen bellantoni': 1101, 'stephen a. cook': 1102, 'amir m. ben-amram': 1103, 'holger petersen': 1104, 'shai ben-david': 1105, 'edward k. blum': 1106, 'benny chor': 1107, 'adi shamir': 1108, 'manuel blum': 1109, 'robert w. floyd': 1110, 'vaughan r. pratt': 1111, 'ronald l. rivest': 1112, 'robert endre tarjan': 1113, 'tao jiang': 1114, 'ming li': 1115, 'john tromp': 1116, 'avinatan hassidim': 1117, 'sampath kannan': 1118, 'elan pavlov': 1119, 'vinod vaikuntanathan': 1120}\n",
            "author_dataframe                          0\n",
            "krisztian balog          0\n",
            "leif azzopardi           1\n",
            "maarten de rijke         2\n",
            "brian t. bartell         3\n",
            "garrison w. cottrell     4\n",
            "...                    ...\n",
            "john tromp            1116\n",
            "avinatan hassidim     1117\n",
            "sampath kannan        1118\n",
            "elan pavlov           1119\n",
            "vinod vaikuntanathan  1120\n",
            "\n",
            "[1121 rows x 1 columns]\n",
            "matrice_doc_authors [[1 1 1 ... 0 0 0]\n",
            " [0 0 0 ... 0 0 0]\n",
            " [0 0 0 ... 0 0 0]\n",
            " ...\n",
            " [0 0 0 ... 0 0 0]\n",
            " [0 0 0 ... 1 0 0]\n",
            " [0 0 0 ... 0 1 1]]\n"
          ],
          "name": "stdout"
        }
      ]
    },
    {
      "cell_type": "code",
      "metadata": {
        "colab": {
          "base_uri": "https://localhost:8080/"
        },
        "id": "ww3iYTFvYHOO",
        "outputId": "0d81392e-43ca-49ea-bb2d-bd9d51e68cdb"
      },
      "source": [
        "#Construire la matrice Documents-auteurs\n",
        "matrice_doc_authors= np.zeros((len(matrice), len(all_authors)), dtype=int)\n",
        "for index, row in matrice.reset_index().iterrows():\n",
        "  for author in row[\"splitted_authors\"]:\n",
        "    matrice_doc_authors[index, author_map[author]] = 1\n",
        "print(\"matrice_doc_authors\",matrice_doc_authors)"
      ],
      "execution_count": null,
      "outputs": [
        {
          "output_type": "stream",
          "text": [
            "dict_values([0, 1, 2, 3, 4, 5, 6, 7, 8, 9, 10, 11, 12, 13, 14, 15, 16, 17, 18, 19, 20, 21, 22, 23, 24, 25, 26, 27, 28, 29, 30, 31, 32, 33, 34, 35, 36, 37, 38, 39, 40, 41, 42, 43, 44, 45, 46, 47, 48, 49, 50, 51, 52, 53, 54, 55, 56, 57, 58, 59, 60, 61, 62, 63, 64, 65, 66, 67, 68, 69, 70, 71, 72, 73, 74, 75, 76, 77, 78, 79, 80, 81, 82, 83, 84, 85, 86, 87, 88, 89, 90, 91, 92, 93, 94, 95, 96, 97, 98, 99, 100, 101, 102, 103, 104, 105, 106, 107, 108, 109, 110, 111, 112, 113, 114, 115, 116, 117, 118, 119, 120, 121, 122, 123, 124, 125, 126, 127, 128, 129, 130, 131, 132, 133, 134, 135, 136, 137, 138, 139, 140, 141, 142, 143, 144, 145, 146, 147, 148, 149, 150, 151, 152, 153, 154, 155, 156, 157, 158, 159, 160, 161, 162, 163, 164, 165, 166, 167, 168, 169, 170, 171, 172, 173, 174, 175, 176, 177, 178, 179, 180, 181, 182, 183, 184, 185, 186, 187, 188, 189, 190, 191, 192, 193, 194, 195, 196, 197, 198, 199, 200, 201, 202, 203, 204, 205, 206, 207, 208, 209, 210, 211, 212, 213, 214, 215, 216, 217, 218, 219, 220, 221, 222, 223, 224, 225, 226, 227, 228, 229, 230, 231, 232, 233, 234, 235, 236, 237, 238, 239, 240, 241, 242, 243, 244, 245, 246, 247, 248, 249, 250, 251, 252, 253, 254, 255, 256, 257, 258, 259, 260, 261, 262, 263, 264, 265, 266, 267, 268, 269, 270, 271, 272, 273, 274, 275, 276, 277, 278, 279, 280, 281, 282, 283, 284, 285, 286, 287, 288, 289, 290, 291, 292, 293, 294, 295, 296, 297, 298, 299, 300, 301, 302, 303, 304, 305, 306, 307, 308, 309, 310, 311, 312, 313, 314, 315, 316, 317, 318, 319, 320, 321, 322, 323, 324, 325, 326, 327, 328, 329, 330, 331, 332, 333, 334, 335, 336, 337, 338, 339, 340, 341, 342, 343, 344, 345, 346, 347, 348, 349, 350, 351, 352, 353, 354, 355, 356, 357, 358, 359, 360, 361, 362, 363, 364, 365, 366, 367, 368, 369, 370, 371, 372, 373, 374, 375, 376, 377, 378, 379, 380, 381, 382, 383, 384, 385, 386, 387, 388, 389, 390, 391, 392, 393, 394, 395, 396, 397, 398, 399, 400, 401, 402, 403, 404, 405, 406, 407, 408, 409, 410, 411, 412, 413, 414, 415, 416, 417, 418, 419, 420, 421, 422, 423, 424, 425, 426, 427, 428, 429, 430, 431, 432, 433, 434, 435, 436, 437, 438, 439, 440, 441, 442, 443, 444, 445, 446, 447, 448, 449, 450, 451, 452, 453, 454, 455, 456, 457, 458, 459, 460, 461, 462, 463, 464, 465, 466, 467, 468, 469, 470, 471, 472, 473, 474, 475, 476, 477, 478, 479, 480, 481, 482, 483, 484, 485, 486, 487, 488, 489, 490, 491, 492, 493, 494, 495, 496, 497, 498, 499, 500, 501, 502, 503, 504, 505, 506, 507, 508, 509, 510, 511, 512, 513, 514, 515, 516, 517, 518, 519, 520, 521, 522, 523, 524, 525, 526, 527, 528, 529, 530, 531, 532, 533, 534, 535, 536, 537, 538, 539, 540, 541, 542, 543, 544, 545, 546, 547, 548, 549, 550, 551, 552, 553, 554, 555, 556, 557, 558, 559, 560, 561, 562, 563, 564, 565, 566, 567, 568, 569, 570, 571, 572, 573, 574, 575, 576, 577, 578, 579, 580, 581, 582, 583, 584, 585, 586, 587, 588, 589, 590, 591, 592, 593, 594, 595, 596, 597, 598, 599, 600, 601, 602, 603, 604, 605, 606, 607, 608, 609, 610, 611, 612, 613, 614, 615, 616, 617, 618, 619, 620, 621, 622, 623, 624, 625, 626, 627, 628, 629, 630, 631, 632, 633, 634, 635, 636, 637, 638, 639, 640, 641, 642, 643, 644, 645, 646, 647, 648, 649, 650, 651, 652, 653, 654, 655, 656, 657, 658, 659, 660, 661, 662, 663, 664, 665, 666, 667, 668, 669, 670, 671, 672, 673, 674, 675, 676, 677, 678, 679, 680, 681, 682, 683, 684, 685, 686, 687, 688, 689, 690, 691, 692, 693, 694, 695, 696, 697, 698, 699, 700, 701, 702, 703, 704, 705, 706, 707, 708, 709, 710, 711, 712, 713, 714, 715, 716, 717, 718, 719, 720, 721, 722, 723, 724, 725, 726, 727, 728, 729, 730, 731, 732, 733, 734, 735, 736, 737, 738, 739, 740, 741, 742, 743, 744, 745, 746, 747, 748, 749, 750, 751, 752, 753, 754, 755, 756, 757, 758, 759, 760, 761, 762, 763, 764, 765, 766, 767, 768, 769, 770, 771, 772, 773, 774, 775, 776, 777, 778, 779, 780, 781, 782, 783, 784, 785, 786, 787, 788, 789, 790, 791, 792, 793, 794, 795, 796, 797, 798, 799, 800, 801, 802, 803, 804, 805, 806, 807, 808, 809, 810, 811, 812, 813, 814, 815, 816, 817, 818, 819, 820, 821, 822, 823, 824, 825, 826, 827, 828, 829, 830, 831, 832, 833, 834, 835, 836, 837, 838, 839, 840, 841, 842, 843, 844, 845, 846, 847, 848, 849, 850, 851, 852, 853, 854, 855, 856, 857, 858, 859, 860, 861, 862, 863, 864, 865, 866, 867, 868, 869, 870, 871, 872, 873, 874, 875, 876, 877, 878, 879, 880, 881, 882, 883, 884, 885, 886, 887, 888, 889, 890, 891, 892, 893, 894, 895, 896, 897, 898, 899, 900, 901, 902, 903, 904, 905, 906, 907, 908, 909, 910, 911, 912, 913, 914, 915, 916, 917, 918, 919, 920, 921, 922, 923, 924, 925, 926, 927, 928, 929, 930, 931, 932, 933, 934, 935, 936, 937, 938, 939, 940, 941, 942, 943, 944, 945, 946, 947, 948, 949, 950, 951, 952, 953, 954, 955, 956, 957, 958, 959, 960, 961, 962, 963, 964, 965, 966, 967, 968, 969, 970, 971, 972, 973, 974, 975, 976, 977, 978, 979, 980, 981, 982, 983, 984, 985, 986, 987, 988, 989, 990, 991, 992, 993, 994, 995, 996, 997, 998, 999, 1000, 1001, 1002, 1003, 1004, 1005, 1006, 1007, 1008, 1009, 1010, 1011, 1012, 1013, 1014, 1015, 1016, 1017, 1018, 1019, 1020, 1021, 1022, 1023, 1024, 1025, 1026, 1027, 1028, 1029, 1030, 1031, 1032, 1033, 1034, 1035, 1036, 1037, 1038, 1039, 1040, 1041, 1042, 1043, 1044, 1045, 1046, 1047, 1048, 1049, 1050, 1051, 1052, 1053, 1054, 1055, 1056, 1057, 1058, 1059, 1060, 1061, 1062, 1063, 1064, 1065, 1066, 1067, 1068, 1069, 1070, 1071, 1072, 1073, 1074, 1075, 1076, 1077, 1078, 1079, 1080, 1081, 1082, 1083, 1084, 1085, 1086, 1087, 1088, 1089, 1090, 1091, 1092, 1093, 1094, 1095, 1096, 1097, 1098, 1099, 1100, 1101, 1102, 1103, 1104, 1105, 1106, 1107, 1108, 1109, 1110, 1111, 1112, 1113, 1114, 1115, 1116, 1117, 1118, 1119, 1120])\n",
            "      Author_ID               Authors\n",
            "0             0       krisztian balog\n",
            "1             1        leif azzopardi\n",
            "2             2      maarten de rijke\n",
            "3             3      brian t. bartell\n",
            "4             4  garrison w. cottrell\n",
            "...         ...                   ...\n",
            "1116       1116            john tromp\n",
            "1117       1117     avinatan hassidim\n",
            "1118       1118        sampath kannan\n",
            "1119       1119           elan pavlov\n",
            "1120       1120  vinod vaikuntanathan\n",
            "\n",
            "[1121 rows x 2 columns]\n"
          ],
          "name": "stdout"
        }
      ]
    },
    {
      "cell_type": "code",
      "metadata": {
        "colab": {
          "base_uri": "https://localhost:8080/"
        },
        "id": "WHt2rFdPWpbw",
        "outputId": "4efd6205-469f-479c-ec82-7c78216a46c9"
      },
      "source": [
        "#Insérer une colonne ‘Id’ représentant l’identifiant du document.\n",
        "matrice_authors_index=pd.DataFrame(data=matrice_doc_authors, columns=all_authors)\n",
        "matrice_authors_index=pd.concat([matrice_authors_index, matrice['ID']], axis = 1)\n",
        "print(\"1er \",matrice_authors_index)\n",
        "print(\"2eme\",matrice_authors_index.loc[0, 'ID'])"
      ],
      "execution_count": null,
      "outputs": [
        {
          "output_type": "stream",
          "text": [
            "1er       krisztian balog  leif azzopardi  ...  vinod vaikuntanathan      ID\n",
            "0                  1               1  ...                     0  594377\n",
            "1                  0               0  ...                     0  594378\n",
            "2                  0               0  ...                     0  594379\n",
            "3                  0               0  ...                     0  594381\n",
            "4                  0               0  ...                     0  594383\n",
            "..               ...             ...  ...                   ...     ...\n",
            "595                0               0  ...                     0  621461\n",
            "596                0               0  ...                     0  621463\n",
            "597                0               0  ...                     0  621464\n",
            "598                0               0  ...                     0  621465\n",
            "599                0               0  ...                     1  621468\n",
            "\n",
            "[600 rows x 1122 columns]\n",
            "2eme 594377\n"
          ],
          "name": "stdout"
        }
      ]
    },
    {
      "cell_type": "markdown",
      "metadata": {
        "id": "fxASLRSpbZIS"
      },
      "source": [
        "**Générer les fichiers CSV pour ces tableaux de données**"
      ]
    },
    {
      "cell_type": "code",
      "metadata": {
        "id": "3V0lmZo0t5q2"
      },
      "source": [
        "matrice_authors_index_csv=matrice_authors_index.to_csv(\n",
        "path_or_buf=\"/content/drive/My Drive/Colab Notebooks/matrice_authors_index_csv.csv\"\n",
        ",index=False, sep='\\t')"
      ],
      "execution_count": null,
      "outputs": []
    },
    {
      "cell_type": "code",
      "metadata": {
        "id": "1nj_3J5fsD1A"
      },
      "source": [
        "author_dataframe_csv=author_dataframe.to_csv(\n",
        "path_or_buf=\"/content/drive/My Drive/Colab Notebooks/author_dataframe_csv.csv\"\n",
        ",index=False, sep='\\t')"
      ],
      "execution_count": null,
      "outputs": []
    },
    {
      "cell_type": "code",
      "metadata": {
        "id": "jzyCuJc5t7rI"
      },
      "source": [
        "matrice_term_index_csv=matrice_term_index.to_csv(\n",
        "path_or_buf=\"/content/drive/My Drive/Colab Notebooks/matrice_term_index_csv.csv\"\n",
        ",index=False, sep='\\t')"
      ],
      "execution_count": null,
      "outputs": []
    },
    {
      "cell_type": "code",
      "metadata": {
        "id": "vCEL9oeJsDzr"
      },
      "source": [
        "matrice_title_index_csv=matrice_title_index.to_csv(\n",
        "path_or_buf=\"/content/drive/My Drive/Colab Notebooks/matrice_title_index_csv.csv\"\n",
        ",index=False, sep='\\t')"
      ],
      "execution_count": null,
      "outputs": []
    },
    {
      "cell_type": "markdown",
      "metadata": {
        "id": "5z3IGU5Fgiwr"
      },
      "source": [
        "**Création de la matrice document citation**"
      ]
    },
    {
      "cell_type": "code",
      "metadata": {
        "colab": {
          "base_uri": "https://localhost:8080/"
        },
        "id": "ihPfvTgWeH4I",
        "outputId": "5b1cc875-d941-4a28-a33b-bb619a3d9eec"
      },
      "source": [
        "reference_map = {x:i for i,x in enumerate(matrice[\"ID\"])}\n",
        "matrice_doc_references= np.zeros((len(matrice), len(matrice[\"ID\"])), dtype=int)\n",
        "for index, row in matrice.reset_index().iterrows():\n",
        "  for reference in str(row[\"id_reference\"]).split(\",\"):\n",
        "    if reference in reference_map:\n",
        "      matrice_doc_references[index, reference_map[reference]] = 1\n",
        "print(\"matrice_doc_references\",matrice_doc_references)\n",
        "matrice_doc_references.shape\n",
        "matrice_doc_citations=matrice_doc_references.transpose()"
      ],
      "execution_count": null,
      "outputs": [
        {
          "output_type": "stream",
          "text": [
            "matrice_doc_references [[0 0 0 ... 0 0 0]\n",
            " [0 0 0 ... 0 0 0]\n",
            " [0 1 0 ... 0 0 0]\n",
            " ...\n",
            " [0 0 0 ... 0 0 0]\n",
            " [0 0 0 ... 0 1 0]\n",
            " [0 0 0 ... 0 0 0]]\n"
          ],
          "name": "stdout"
        }
      ]
    },
    {
      "cell_type": "markdown",
      "metadata": {
        "id": "vFlAy5qAiCsr"
      },
      "source": [
        "**Remplir la colone NbrCitation dans la matrice principale**"
      ]
    },
    {
      "cell_type": "code",
      "metadata": {
        "colab": {
          "base_uri": "https://localhost:8080/"
        },
        "id": "RXugJyjkVER7",
        "outputId": "549be1f1-d046-4f76-c20f-fcc15d85273c"
      },
      "source": [
        "for i in range (len(matrice[\"splitted_authors\"])):\n",
        "  matrice.loc[i, 'NbrAuthor']=len(matrice.loc[i,'splitted_authors'])\n",
        "print(matrice['NbrAuthor'])\n",
        "matrice['NbrCitations']=np.sum(matrice_doc_citations, axis = 1)\n",
        "print(matrice.head())"
      ],
      "execution_count": null,
      "outputs": [
        {
          "output_type": "stream",
          "text": [
            "1\n",
            "0      3\n",
            "1      3\n",
            "2      1\n",
            "3      2\n",
            "4      2\n",
            "      ..\n",
            "595    5\n",
            "596    5\n",
            "597    2\n",
            "598    2\n",
            "599    3\n",
            "Name: NbrAuthor, Length: 600, dtype: object\n",
            "print 222 771904,2025\n",
            "print 444 0      0\n",
            "1      2\n",
            "2      2\n",
            "3      0\n",
            "4      0\n",
            "      ..\n",
            "595    0\n",
            "596    0\n",
            "597    0\n",
            "598    1\n",
            "599    0\n",
            "Name: NbrCitations, Length: 600, dtype: int64\n",
            "                                               Title  ...                                   splitted_authors\n",
            "0      formal model expert finding enterprise corpus  ...  [krisztian balog, leif azzopardi, maarten de r...\n",
            "1  latent semantic indexing optimal special case ...  ...  [brian t. bartell, garrison w. cottrell, richa...\n",
            "2  latent semanticspace iterative scaling improve...  ...                                  [rie kubota ando]\n",
            "3  planning expert system automated information r...  ...                  [christine barthes, pierre glize]\n",
            "4  discovering structuring information flow among...  ...                 [joan c. bartlett, elaine g. toms]\n",
            "\n",
            "[5 rows x 10 columns]\n"
          ],
          "name": "stdout"
        }
      ]
    },
    {
      "cell_type": "code",
      "metadata": {
        "id": "fmI-z0fIt9FL"
      },
      "source": [
        "matrice.reset_index(drop=True, inplace=True)\n",
        "matrice.to_csv(\n",
        "path_or_buf=\"/content/drive/My Drive/Colab Notebooks/matrice_csv.csv\"\n",
        ",index=False, sep='\\t')"
      ],
      "execution_count": null,
      "outputs": []
    },
    {
      "cell_type": "markdown",
      "metadata": {
        "id": "s9GYkVYnN2gI"
      },
      "source": [
        "# Partie 3"
      ]
    },
    {
      "cell_type": "markdown",
      "metadata": {
        "id": "61ekjyP4fnhe"
      },
      "source": [
        "**Construire les quatre graphes co-termes (titre), co-termes (abstract), co-auteurs, citations.**"
      ]
    },
    {
      "cell_type": "code",
      "metadata": {
        "colab": {
          "base_uri": "https://localhost:8080/"
        },
        "id": "YLHjmBcvJM4Y",
        "outputId": "a7137673-18ae-4fcf-afd9-17dfcb6b5a7f"
      },
      "source": [
        "abstract_mat = matrice_doc_terms2.dot(matrice_doc_terms2.transpose()) # M*M'\n",
        "print(abstract_mat.shape)\n",
        "print(\"abstract_mat\",abstract_mat)\n",
        "\n",
        "title_mat = matrice_title_terms2.dot(matrice_title_terms2.transpose())\n",
        "print(\"title_mat.shape\")\n",
        "print(\"title_mat\",title_mat)\n",
        "\n",
        "author_mat = matrice_doc_authors.dot(matrice_doc_authors.transpose())\n",
        "print(author_mat.shape)\n",
        "print(\"author_mat\",author_mat)"
      ],
      "execution_count": null,
      "outputs": [
        {
          "output_type": "stream",
          "text": [
            "(600, 600)\n",
            "abstract_mat [[135  25  30 ...   2   1   4]\n",
            " [ 25 177  46 ...   4   7  12]\n",
            " [ 30  46 100 ...   2   6   9]\n",
            " ...\n",
            " [  2   4   2 ...  24   0  24]\n",
            " [  1   7   6 ...   0  70   4]\n",
            " [  4  12   9 ...  24   4  84]]\n",
            "title_mat.shape\n",
            "title_mat [[6 0 0 ... 0 0 1]\n",
            " [0 8 2 ... 0 0 0]\n",
            " [0 2 7 ... 0 0 0]\n",
            " ...\n",
            " [0 0 0 ... 4 0 2]\n",
            " [0 0 0 ... 0 3 0]\n",
            " [1 0 0 ... 2 0 5]]\n",
            "(600, 600)\n",
            "author_mat [[3 0 0 ... 0 0 0]\n",
            " [0 3 0 ... 0 0 0]\n",
            " [0 0 1 ... 0 0 0]\n",
            " ...\n",
            " [0 0 0 ... 2 0 1]\n",
            " [0 0 0 ... 0 2 0]\n",
            " [0 0 0 ... 1 0 3]]\n"
          ],
          "name": "stdout"
        }
      ]
    },
    {
      "cell_type": "code",
      "metadata": {
        "colab": {
          "base_uri": "https://localhost:8080/"
        },
        "id": "a33QA7PMPYdm",
        "outputId": "2d3199f4-52f8-404f-e3d4-b32b28e90791"
      },
      "source": [
        "!pip install python-louvain"
      ],
      "execution_count": null,
      "outputs": [
        {
          "output_type": "stream",
          "text": [
            "Requirement already satisfied: python-louvain in /usr/local/lib/python3.6/dist-packages (0.14)\n",
            "Requirement already satisfied: networkx in /usr/local/lib/python3.6/dist-packages (from python-louvain) (2.5)\n",
            "Requirement already satisfied: numpy in /usr/local/lib/python3.6/dist-packages (from python-louvain) (1.18.5)\n",
            "Requirement already satisfied: decorator>=4.3.0 in /usr/local/lib/python3.6/dist-packages (from networkx->python-louvain) (4.4.2)\n"
          ],
          "name": "stdout"
        }
      ]
    },
    {
      "cell_type": "code",
      "metadata": {
        "colab": {
          "base_uri": "https://localhost:8080/"
        },
        "id": "QESmLy9HAAl7",
        "outputId": "6b9dc3e3-255e-4bfb-f2de-bcff952e06f6"
      },
      "source": [
        "!pip install networkx"
      ],
      "execution_count": null,
      "outputs": [
        {
          "output_type": "stream",
          "text": [
            "Requirement already satisfied: networkx in /usr/local/lib/python3.6/dist-packages (2.5)\n",
            "Requirement already satisfied: decorator>=4.3.0 in /usr/local/lib/python3.6/dist-packages (from networkx) (4.4.2)\n"
          ],
          "name": "stdout"
        }
      ]
    },
    {
      "cell_type": "code",
      "metadata": {
        "colab": {
          "base_uri": "https://localhost:8080/"
        },
        "id": "fGewRWBkPvDk",
        "outputId": "cf0e3983-9b43-4631-ac0f-e78db7ed9b8e"
      },
      "source": [
        "pip install cluster_ensembles "
      ],
      "execution_count": null,
      "outputs": [
        {
          "output_type": "stream",
          "text": [
            "Requirement already satisfied: cluster_ensembles in /usr/local/lib/python3.6/dist-packages (1.16)\n",
            "Requirement already satisfied: sklearn in /usr/local/lib/python3.6/dist-packages (from cluster_ensembles) (0.0)\n",
            "Requirement already satisfied: setuptools in /usr/local/lib/python3.6/dist-packages (from cluster_ensembles) (50.3.2)\n",
            "Requirement already satisfied: numpy>=1.9.0 in /usr/local/lib/python3.6/dist-packages (from cluster_ensembles) (1.18.5)\n",
            "Requirement already satisfied: scipy in /usr/local/lib/python3.6/dist-packages (from cluster_ensembles) (1.4.1)\n",
            "Requirement already satisfied: tables in /usr/local/lib/python3.6/dist-packages (from cluster_ensembles) (3.4.4)\n",
            "Requirement already satisfied: scikit-learn in /usr/local/lib/python3.6/dist-packages (from sklearn->cluster_ensembles) (0.22.2.post1)\n",
            "Requirement already satisfied: six>=1.9.0 in /usr/local/lib/python3.6/dist-packages (from tables->cluster_ensembles) (1.15.0)\n",
            "Requirement already satisfied: numexpr>=2.5.2 in /usr/local/lib/python3.6/dist-packages (from tables->cluster_ensembles) (2.7.1)\n",
            "Requirement already satisfied: joblib>=0.11 in /usr/local/lib/python3.6/dist-packages (from scikit-learn->sklearn->cluster_ensembles) (0.17.0)\n"
          ],
          "name": "stdout"
        }
      ]
    },
    {
      "cell_type": "code",
      "metadata": {
        "colab": {
          "base_uri": "https://localhost:8080/"
        },
        "id": "DsMQ8aLfPmke",
        "outputId": "39414aad-5a40-47c4-a867-d8bf446f48c2"
      },
      "source": [
        "!sudo apt-get install metis"
      ],
      "execution_count": null,
      "outputs": [
        {
          "output_type": "stream",
          "text": [
            "Reading package lists... Done\n",
            "Building dependency tree       \n",
            "Reading state information... Done\n",
            "metis is already the newest version (5.1.0.dfsg-5).\n",
            "0 upgraded, 0 newly installed, 0 to remove and 14 not upgraded.\n"
          ],
          "name": "stdout"
        }
      ]
    },
    {
      "cell_type": "code",
      "metadata": {
        "id": "c5Ptdv9DP5lr"
      },
      "source": [
        "pip list  -v "
      ],
      "execution_count": null,
      "outputs": []
    },
    {
      "cell_type": "code",
      "metadata": {
        "id": "cs8V_8_Tt6s1",
        "colab": {
          "base_uri": "https://localhost:8080/",
          "height": 1000
        },
        "outputId": "66853213-1692-4a91-8d35-b79dec2d8882"
      },
      "source": [
        "import numpy as np\n",
        "import matplotlib.pyplot as plt\n",
        "import community\n",
        "import networkx as nx\n",
        "####################################################\n",
        "# Detection de communautés: application de l'algorithme de Louvain \n",
        "\n",
        "#### graphe non-orienté : matrice d'adjacence symetrique\n",
        "# Affichage de la matrice d’adjacence  \n",
        "plt.spy(abstract_mat) \n",
        "plt.show() \n",
        "# Affichage de la matrice d’adjacence \n",
        "plt.spy(title_mat) \n",
        "plt.show() \n",
        "# Affichage de la matrice d’adjacence \n",
        "plt.spy(author_mat) \n",
        "plt.show() \n",
        "\n",
        "# Affichage de la matrice d’adjacence \n",
        "plt.spy(matrice_doc_citations) \n",
        "plt.show() \n",
        "\n",
        "# création du graphe à l’aide du package networkx\n",
        "g_non_orient_abstract = nx.from_numpy_matrix(abstract_mat) \n",
        "g_non_orient_title = nx.from_numpy_matrix(title_mat)\n",
        "g_non_orient_author = nx.from_numpy_matrix(author_mat) \n",
        "g_non_orient_citation = nx.from_numpy_matrix(matrice_doc_citations) "
      ],
      "execution_count": null,
      "outputs": [
        {
          "output_type": "display_data",
          "data": {
            "image/png": "[encoded data removed]",
            "text/plain": [
              "<Figure size 432x288 with 1 Axes>"
            ]
          },
          "metadata": {
            "tags": [],
            "needs_background": "light"
          }
        },
        {
          "output_type": "display_data",
          "data": {
            "image/png": "[encoded data removed]",
            "text/plain": [
              "<Figure size 432x288 with 1 Axes>"
            ]
          },
          "metadata": {
            "tags": [],
            "needs_background": "light"
          }
        },
        {
          "output_type": "display_data",
          "data": {
            "image/png": "[encoded data removed]",
            "text/plain": [
              "<Figure size 432x288 with 1 Axes>"
            ]
          },
          "metadata": {
            "tags": [],
            "needs_background": "light"
          }
        },
        {
          "output_type": "display_data",
          "data": {
            "image/png": "[encoded data removed]",
            "text/plain": [
              "<Figure size 432x288 with 1 Axes>"
            ]
          },
          "metadata": {
            "tags": [],
            "needs_background": "light"
          }
        }
      ]
    },
    {
      "cell_type": "markdown",
      "metadata": {
        "id": "KD18KKrqfw5u"
      },
      "source": [
        "**Réaliser un clustering à l’aide à l’aide de l’algorithme de Louvain sur les quatre graphes.**"
      ]
    },
    {
      "cell_type": "code",
      "metadata": {
        "colab": {
          "base_uri": "https://localhost:8080/"
        },
        "id": "k4CBd4UWOvBd",
        "outputId": "6e47f562-98c6-4eba-ef23-c074972608e5"
      },
      "source": [
        "# Detection de communautés: application de l'algorithme de Louvain \n",
        "partition_doc_term = community.best_partition(g_non_orient_abstract) \n",
        "print(\"partition doc term\", partition_doc_term)\n",
        "partition_tit_term = community.best_partition(g_non_orient_title)\n",
        "print(\"partition title term\", partition_tit_term)\n",
        "partition_doc_auth = community.best_partition(g_non_orient_author)\n",
        "print(\"partition doc author\", partition_doc_auth) \n",
        "partition_doc_citation = community.best_partition(g_non_orient_citation)\n",
        "print(\"partition doc citation\", partition_doc_citation) "
      ],
      "execution_count": null,
      "outputs": [
        {
          "output_type": "stream",
          "text": [
            "partition doc term {0: 0, 1: 0, 2: 0, 3: 0, 4: 1, 5: 2, 6: 0, 7: 0, 8: 2, 9: 0, 10: 2, 11: 2, 12: 2, 13: 2, 14: 2, 15: 2, 16: 0, 17: 0, 18: 0, 19: 0, 20: 0, 21: 0, 22: 2, 23: 0, 24: 0, 25: 2, 26: 0, 27: 0, 28: 2, 29: 3, 30: 2, 31: 4, 32: 1, 33: 0, 34: 0, 35: 0, 36: 5, 37: 0, 38: 0, 39: 2, 40: 0, 41: 0, 42: 0, 43: 0, 44: 0, 45: 0, 46: 0, 47: 0, 48: 0, 49: 5, 50: 2, 51: 2, 52: 0, 53: 0, 54: 0, 55: 0, 56: 2, 57: 2, 58: 2, 59: 0, 60: 0, 61: 1, 62: 2, 63: 0, 64: 5, 65: 4, 66: 0, 67: 5, 68: 1, 69: 2, 70: 2, 71: 0, 72: 2, 73: 2, 74: 2, 75: 2, 76: 2, 77: 0, 78: 2, 79: 0, 80: 2, 81: 2, 82: 0, 83: 0, 84: 0, 85: 4, 86: 1, 87: 0, 88: 0, 89: 0, 90: 0, 91: 0, 92: 0, 93: 0, 94: 1, 95: 0, 96: 2, 97: 0, 98: 0, 99: 5, 100: 0, 101: 0, 102: 0, 103: 1, 104: 0, 105: 0, 106: 0, 107: 0, 108: 0, 109: 0, 110: 2, 111: 0, 112: 0, 113: 2, 114: 2, 115: 0, 116: 4, 117: 0, 118: 0, 119: 2, 120: 0, 121: 0, 122: 0, 123: 0, 124: 0, 125: 0, 126: 0, 127: 0, 128: 0, 129: 0, 130: 0, 131: 4, 132: 4, 133: 0, 134: 0, 135: 1, 136: 2, 137: 0, 138: 0, 139: 0, 140: 0, 141: 5, 142: 0, 143: 0, 144: 0, 145: 2, 146: 2, 147: 1, 148: 0, 149: 0, 150: 0, 151: 0, 152: 2, 153: 0, 154: 2, 155: 2, 156: 0, 157: 2, 158: 2, 159: 0, 160: 0, 161: 0, 162: 0, 163: 0, 164: 4, 165: 0, 166: 0, 167: 0, 168: 2, 169: 0, 170: 2, 171: 0, 172: 0, 173: 0, 174: 0, 175: 0, 176: 4, 177: 0, 178: 0, 179: 0, 180: 0, 181: 2, 182: 4, 183: 0, 184: 0, 185: 2, 186: 2, 187: 0, 188: 2, 189: 2, 190: 2, 191: 2, 192: 4, 193: 0, 194: 4, 195: 0, 196: 2, 197: 5, 198: 0, 199: 2, 200: 0, 201: 0, 202: 2, 203: 2, 204: 4, 205: 0, 206: 1, 207: 1, 208: 4, 209: 1, 210: 4, 211: 1, 212: 3, 213: 1, 214: 5, 215: 2, 216: 2, 217: 1, 218: 0, 219: 2, 220: 2, 221: 2, 222: 2, 223: 2, 224: 2, 225: 1, 226: 1, 227: 2, 228: 0, 229: 5, 230: 1, 231: 0, 232: 5, 233: 1, 234: 2, 235: 0, 236: 1, 237: 0, 238: 1, 239: 2, 240: 1, 241: 2, 242: 2, 243: 0, 244: 1, 245: 1, 246: 1, 247: 1, 248: 1, 249: 1, 250: 1, 251: 5, 252: 2, 253: 2, 254: 2, 255: 1, 256: 2, 257: 0, 258: 1, 259: 2, 260: 1, 261: 0, 262: 0, 263: 2, 264: 2, 265: 1, 266: 2, 267: 2, 268: 1, 269: 0, 270: 2, 271: 1, 272: 2, 273: 1, 274: 1, 275: 1, 276: 2, 277: 1, 278: 1, 279: 0, 280: 2, 281: 1, 282: 1, 283: 1, 284: 0, 285: 2, 286: 2, 287: 1, 288: 1, 289: 1, 290: 2, 291: 1, 292: 3, 293: 2, 294: 1, 295: 2, 296: 0, 297: 1, 298: 2, 299: 1, 300: 0, 301: 4, 302: 2, 303: 5, 304: 0, 305: 5, 306: 2, 307: 1, 308: 5, 309: 5, 310: 1, 311: 0, 312: 0, 313: 1, 314: 1, 315: 0, 316: 0, 317: 0, 318: 0, 319: 2, 320: 2, 321: 2, 322: 2, 323: 5, 324: 1, 325: 2, 326: 2, 327: 1, 328: 1, 329: 5, 330: 1, 331: 2, 332: 5, 333: 0, 334: 1, 335: 2, 336: 0, 337: 1, 338: 5, 339: 3, 340: 1, 341: 2, 342: 2, 343: 2, 344: 5, 345: 2, 346: 5, 347: 1, 348: 2, 349: 2, 350: 2, 351: 3, 352: 1, 353: 2, 354: 3, 355: 1, 356: 1, 357: 1, 358: 2, 359: 0, 360: 1, 361: 0, 362: 5, 363: 1, 364: 2, 365: 2, 366: 1, 367: 1, 368: 1, 369: 1, 370: 2, 371: 4, 372: 1, 373: 2, 374: 2, 375: 2, 376: 1, 377: 1, 378: 0, 379: 2, 380: 1, 381: 0, 382: 1, 383: 0, 384: 1, 385: 1, 386: 1, 387: 4, 388: 0, 389: 1, 390: 1, 391: 3, 392: 1, 393: 2, 394: 1, 395: 1, 396: 5, 397: 1, 398: 2, 399: 2, 400: 5, 401: 5, 402: 5, 403: 0, 404: 5, 405: 0, 406: 5, 407: 5, 408: 5, 409: 5, 410: 5, 411: 5, 412: 5, 413: 5, 414: 5, 415: 5, 416: 5, 417: 5, 418: 5, 419: 5, 420: 5, 421: 5, 422: 5, 423: 5, 424: 5, 425: 5, 426: 5, 427: 3, 428: 5, 429: 5, 430: 5, 431: 5, 432: 5, 433: 5, 434: 5, 435: 5, 436: 5, 437: 5, 438: 5, 439: 5, 440: 5, 441: 5, 442: 5, 443: 5, 444: 0, 445: 0, 446: 5, 447: 5, 448: 5, 449: 5, 450: 5, 451: 5, 452: 5, 453: 5, 454: 5, 455: 5, 456: 5, 457: 5, 458: 5, 459: 5, 460: 5, 461: 5, 462: 5, 463: 5, 464: 5, 465: 5, 466: 2, 467: 5, 468: 5, 469: 5, 470: 5, 471: 5, 472: 3, 473: 5, 474: 5, 475: 5, 476: 5, 477: 5, 478: 5, 479: 5, 480: 5, 481: 5, 482: 5, 483: 5, 484: 5, 485: 5, 486: 5, 487: 5, 488: 5, 489: 5, 490: 5, 491: 5, 492: 5, 493: 5, 494: 5, 495: 5, 496: 5, 497: 5, 498: 1, 499: 0, 500: 5, 501: 5, 502: 5, 503: 5, 504: 5, 505: 5, 506: 5, 507: 5, 508: 5, 509: 5, 510: 5, 511: 5, 512: 5, 513: 5, 514: 5, 515: 5, 516: 5, 517: 5, 518: 5, 519: 5, 520: 5, 521: 5, 522: 5, 523: 5, 524: 5, 525: 5, 526: 5, 527: 5, 528: 5, 529: 5, 530: 5, 531: 5, 532: 1, 533: 5, 534: 5, 535: 5, 536: 5, 537: 5, 538: 5, 539: 5, 540: 5, 541: 5, 542: 5, 543: 5, 544: 5, 545: 3, 546: 5, 547: 5, 548: 5, 549: 5, 550: 5, 551: 5, 552: 5, 553: 5, 554: 5, 555: 5, 556: 5, 557: 5, 558: 5, 559: 5, 560: 5, 561: 0, 562: 5, 563: 5, 564: 5, 565: 5, 566: 5, 567: 5, 568: 5, 569: 5, 570: 5, 571: 5, 572: 5, 573: 5, 574: 5, 575: 5, 576: 5, 577: 5, 578: 5, 579: 5, 580: 5, 581: 5, 582: 5, 583: 1, 584: 5, 585: 5, 586: 5, 587: 5, 588: 5, 589: 5, 590: 5, 591: 5, 592: 0, 593: 5, 594: 5, 595: 5, 596: 5, 597: 5, 598: 5, 599: 5}\n",
            "partition title term {0: 0, 1: 1, 2: 0, 3: 2, 4: 2, 5: 3, 6: 4, 7: 2, 8: 4, 9: 2, 10: 4, 11: 3, 12: 0, 13: 2, 14: 5, 15: 0, 16: 2, 17: 2, 18: 2, 19: 2, 20: 2, 21: 6, 22: 0, 23: 5, 24: 2, 25: 2, 26: 5, 27: 6, 28: 4, 29: 7, 30: 0, 31: 5, 32: 8, 33: 0, 34: 4, 35: 7, 36: 0, 37: 2, 38: 2, 39: 5, 40: 0, 41: 2, 42: 2, 43: 2, 44: 3, 45: 0, 46: 2, 47: 2, 48: 0, 49: 7, 50: 2, 51: 5, 52: 2, 53: 2, 54: 4, 55: 2, 56: 5, 57: 0, 58: 4, 59: 0, 60: 0, 61: 3, 62: 5, 63: 7, 64: 6, 65: 4, 66: 7, 67: 7, 68: 7, 69: 4, 70: 2, 71: 7, 72: 5, 73: 4, 74: 4, 75: 2, 76: 2, 77: 2, 78: 4, 79: 4, 80: 3, 81: 2, 82: 7, 83: 7, 84: 5, 85: 2, 86: 1, 87: 1, 88: 2, 89: 2, 90: 4, 91: 2, 92: 2, 93: 6, 94: 2, 95: 4, 96: 5, 97: 0, 98: 2, 99: 0, 100: 2, 101: 2, 102: 2, 103: 3, 104: 2, 105: 0, 106: 5, 107: 0, 108: 2, 109: 0, 110: 8, 111: 6, 112: 7, 113: 2, 114: 2, 115: 0, 116: 4, 117: 2, 118: 5, 119: 5, 120: 2, 121: 2, 122: 7, 123: 2, 124: 4, 125: 0, 126: 2, 127: 2, 128: 7, 129: 1, 130: 0, 131: 0, 132: 4, 133: 0, 134: 2, 135: 6, 136: 5, 137: 2, 138: 2, 139: 2, 140: 2, 141: 4, 142: 4, 143: 2, 144: 2, 145: 0, 146: 4, 147: 0, 148: 2, 149: 3, 150: 2, 151: 2, 152: 5, 153: 2, 154: 4, 155: 4, 156: 2, 157: 0, 158: 5, 159: 8, 160: 0, 161: 0, 162: 4, 163: 2, 164: 6, 165: 4, 166: 7, 167: 2, 168: 2, 169: 2, 170: 5, 171: 2, 172: 2, 173: 9, 174: 0, 175: 7, 176: 7, 177: 2, 178: 4, 179: 4, 180: 7, 181: 2, 182: 4, 183: 0, 184: 2, 185: 4, 186: 2, 187: 8, 188: 2, 189: 2, 190: 5, 191: 2, 192: 4, 193: 7, 194: 4, 195: 2, 196: 5, 197: 4, 198: 0, 199: 4, 200: 2, 201: 8, 202: 8, 203: 8, 204: 0, 205: 0, 206: 3, 207: 4, 208: 8, 209: 8, 210: 3, 211: 1, 212: 4, 213: 7, 214: 6, 215: 6, 216: 0, 217: 8, 218: 2, 219: 5, 220: 5, 221: 5, 222: 5, 223: 10, 224: 10, 225: 3, 226: 3, 227: 5, 228: 8, 229: 5, 230: 8, 231: 8, 232: 9, 233: 3, 234: 5, 235: 0, 236: 0, 237: 5, 238: 8, 239: 8, 240: 5, 241: 8, 242: 4, 243: 4, 244: 3, 245: 3, 246: 3, 247: 3, 248: 11, 249: 11, 250: 3, 251: 8, 252: 5, 253: 5, 254: 5, 255: 3, 256: 8, 257: 4, 258: 8, 259: 5, 260: 4, 261: 8, 262: 8, 263: 2, 264: 1, 265: 3, 266: 5, 267: 1, 268: 1, 269: 1, 270: 4, 271: 12, 272: 5, 273: 3, 274: 4, 275: 3, 276: 8, 277: 8, 278: 2, 279: 8, 280: 8, 281: 2, 282: 3, 283: 3, 284: 3, 285: 5, 286: 8, 287: 3, 288: 2, 289: 3, 290: 4, 291: 0, 292: 5, 293: 3, 294: 8, 295: 0, 296: 2, 297: 0, 298: 8, 299: 3, 300: 13, 301: 5, 302: 5, 303: 6, 304: 8, 305: 8, 306: 6, 307: 3, 308: 0, 309: 4, 310: 0, 311: 9, 312: 7, 313: 1, 314: 7, 315: 5, 316: 5, 317: 8, 318: 2, 319: 8, 320: 4, 321: 0, 322: 5, 323: 9, 324: 3, 325: 5, 326: 4, 327: 8, 328: 8, 329: 4, 330: 5, 331: 5, 332: 8, 333: 2, 334: 8, 335: 2, 336: 2, 337: 4, 338: 8, 339: 7, 340: 3, 341: 8, 342: 8, 343: 0, 344: 13, 345: 5, 346: 8, 347: 3, 348: 5, 349: 5, 350: 5, 351: 4, 352: 8, 353: 1, 354: 4, 355: 12, 356: 3, 357: 6, 358: 4, 359: 8, 360: 8, 361: 8, 362: 6, 363: 6, 364: 3, 365: 3, 366: 6, 367: 3, 368: 3, 369: 7, 370: 3, 371: 8, 372: 3, 373: 2, 374: 5, 375: 5, 376: 4, 377: 4, 378: 4, 379: 5, 380: 8, 381: 8, 382: 8, 383: 2, 384: 7, 385: 3, 386: 13, 387: 4, 388: 0, 389: 3, 390: 3, 391: 5, 392: 5, 393: 0, 394: 8, 395: 8, 396: 3, 397: 6, 398: 5, 399: 5, 400: 6, 401: 6, 402: 4, 403: 7, 404: 6, 405: 0, 406: 6, 407: 6, 408: 6, 409: 6, 410: 6, 411: 4, 412: 7, 413: 6, 414: 6, 415: 9, 416: 6, 417: 6, 418: 6, 419: 3, 420: 6, 421: 6, 422: 6, 423: 6, 424: 6, 425: 6, 426: 6, 427: 7, 428: 6, 429: 6, 430: 6, 431: 6, 432: 6, 433: 4, 434: 13, 435: 6, 436: 0, 437: 5, 438: 6, 439: 6, 440: 6, 441: 0, 442: 0, 443: 13, 444: 6, 445: 6, 446: 6, 447: 14, 448: 15, 449: 13, 450: 6, 451: 6, 452: 6, 453: 0, 454: 6, 455: 12, 456: 6, 457: 16, 458: 6, 459: 6, 460: 6, 461: 6, 462: 6, 463: 6, 464: 6, 465: 6, 466: 6, 467: 6, 468: 6, 469: 6, 470: 6, 471: 9, 472: 0, 473: 7, 474: 2, 475: 6, 476: 6, 477: 6, 478: 6, 479: 6, 480: 4, 481: 6, 482: 2, 483: 0, 484: 6, 485: 6, 486: 6, 487: 6, 488: 6, 489: 6, 490: 13, 491: 13, 492: 4, 493: 6, 494: 13, 495: 6, 496: 4, 497: 6, 498: 6, 499: 2, 500: 4, 501: 6, 502: 6, 503: 3, 504: 6, 505: 17, 506: 6, 507: 4, 508: 5, 509: 18, 510: 6, 511: 6, 512: 6, 513: 6, 514: 6, 515: 13, 516: 6, 517: 6, 518: 6, 519: 7, 520: 6, 521: 6, 522: 6, 523: 5, 524: 6, 525: 5, 526: 13, 527: 13, 528: 6, 529: 13, 530: 6, 531: 6, 532: 3, 533: 13, 534: 13, 535: 9, 536: 6, 537: 6, 538: 9, 539: 6, 540: 6, 541: 6, 542: 0, 543: 4, 544: 4, 545: 7, 546: 6, 547: 6, 548: 6, 549: 6, 550: 6, 551: 6, 552: 13, 553: 6, 554: 6, 555: 6, 556: 6, 557: 6, 558: 0, 559: 6, 560: 6, 561: 7, 562: 0, 563: 4, 564: 6, 565: 6, 566: 3, 567: 4, 568: 2, 569: 6, 570: 6, 571: 6, 572: 6, 573: 6, 574: 6, 575: 6, 576: 6, 577: 6, 578: 6, 579: 6, 580: 6, 581: 6, 582: 6, 583: 8, 584: 8, 585: 6, 586: 5, 587: 14, 588: 4, 589: 13, 590: 19, 591: 6, 592: 0, 593: 6, 594: 13, 595: 6, 596: 6, 597: 6, 598: 6, 599: 0}\n",
            "partition doc author {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}\n",
            "partition doc citation {0: 0, 1: 1, 2: 1, 3: 2, 4: 3, 5: 4, 6: 5, 7: 1, 8: 6, 9: 7, 10: 8, 11: 9, 12: 10, 13: 10, 14: 11, 15: 10, 16: 12, 17: 13, 18: 14, 19: 15, 20: 16, 21: 17, 22: 18, 23: 19, 24: 20, 25: 21, 26: 22, 27: 23, 28: 21, 29: 24, 30: 25, 31: 26, 32: 27, 33: 28, 34: 29, 35: 30, 36: 31, 37: 32, 38: 33, 39: 34, 40: 10, 41: 10, 42: 35, 43: 36, 44: 37, 45: 10, 46: 10, 47: 10, 48: 10, 49: 38, 50: 39, 51: 40, 52: 38, 53: 41, 54: 42, 55: 43, 56: 44, 57: 45, 58: 46, 59: 47, 60: 48, 61: 38, 62: 49, 63: 10, 64: 50, 65: 51, 66: 52, 67: 53, 68: 54, 69: 40, 70: 16, 71: 16, 72: 16, 73: 55, 74: 40, 75: 56, 76: 56, 77: 56, 78: 57, 79: 58, 80: 59, 81: 60, 82: 61, 83: 62, 84: 63, 85: 38, 86: 56, 87: 56, 88: 64, 89: 65, 90: 10, 91: 4, 92: 66, 93: 67, 94: 4, 95: 16, 96: 68, 97: 69, 98: 70, 99: 71, 100: 10, 101: 72, 102: 10, 103: 73, 104: 74, 105: 75, 106: 74, 107: 76, 108: 77, 109: 78, 110: 56, 111: 79, 112: 80, 113: 81, 114: 82, 115: 83, 116: 84, 117: 83, 118: 85, 119: 40, 120: 86, 121: 83, 122: 87, 123: 88, 124: 83, 125: 89, 126: 90, 127: 91, 128: 92, 129: 1, 130: 93, 131: 94, 132: 94, 133: 95, 134: 96, 135: 56, 136: 97, 137: 98, 138: 99, 139: 10, 140: 100, 141: 101, 142: 101, 143: 102, 144: 101, 145: 103, 146: 103, 147: 104, 148: 105, 149: 106, 150: 107, 151: 108, 152: 109, 153: 110, 154: 111, 155: 112, 156: 12, 157: 16, 158: 113, 159: 73, 160: 114, 161: 115, 162: 116, 163: 10, 164: 117, 165: 31, 166: 118, 167: 119, 168: 16, 169: 120, 170: 121, 171: 122, 172: 7, 173: 123, 174: 124, 175: 123, 176: 94, 177: 125, 178: 126, 179: 127, 180: 128, 181: 129, 182: 130, 183: 131, 184: 132, 185: 133, 186: 134, 187: 135, 188: 7, 189: 56, 190: 38, 191: 136, 192: 137, 193: 94, 194: 138, 195: 139, 196: 56, 197: 140, 198: 141, 199: 10, 200: 142, 201: 143, 202: 144, 203: 145, 204: 146, 205: 147, 206: 148, 207: 148, 208: 149, 209: 150, 210: 151, 211: 152, 212: 148, 213: 153, 214: 154, 215: 155, 216: 156, 217: 157, 218: 158, 219: 159, 220: 160, 221: 160, 222: 161, 223: 160, 224: 160, 225: 148, 226: 148, 227: 162, 228: 144, 229: 160, 230: 163, 231: 164, 232: 165, 233: 166, 234: 167, 235: 168, 236: 169, 237: 168, 238: 170, 239: 164, 240: 171, 241: 172, 242: 173, 243: 171, 244: 144, 245: 160, 246: 148, 247: 174, 248: 144, 249: 175, 250: 174, 251: 148, 252: 160, 253: 160, 254: 160, 255: 176, 256: 160, 257: 177, 258: 178, 259: 179, 260: 148, 261: 164, 262: 180, 263: 16, 264: 181, 265: 172, 266: 181, 267: 182, 268: 172, 269: 183, 270: 16, 271: 184, 272: 185, 273: 148, 274: 148, 275: 148, 276: 186, 277: 187, 278: 188, 279: 189, 280: 16, 281: 172, 282: 144, 283: 190, 284: 144, 285: 160, 286: 191, 287: 192, 288: 193, 289: 192, 290: 16, 291: 194, 292: 195, 293: 196, 294: 148, 295: 16, 296: 197, 297: 148, 298: 148, 299: 198, 300: 154, 301: 199, 302: 200, 303: 201, 304: 202, 305: 203, 306: 204, 307: 205, 308: 206, 309: 207, 310: 208, 311: 209, 312: 210, 313: 211, 314: 212, 315: 210, 316: 213, 317: 214, 318: 214, 319: 215, 320: 216, 321: 217, 322: 144, 323: 216, 324: 218, 325: 219, 326: 220, 327: 221, 328: 222, 329: 223, 330: 174, 331: 224, 332: 225, 333: 144, 334: 226, 335: 196, 336: 227, 337: 228, 338: 228, 339: 229, 340: 222, 341: 230, 342: 231, 343: 144, 344: 232, 345: 233, 346: 148, 347: 222, 348: 234, 349: 235, 350: 236, 351: 148, 352: 228, 353: 237, 354: 238, 355: 239, 356: 148, 357: 148, 358: 240, 359: 241, 360: 242, 361: 243, 362: 244, 363: 245, 364: 144, 365: 144, 366: 246, 367: 247, 368: 248, 369: 249, 370: 250, 371: 251, 372: 252, 373: 253, 374: 254, 375: 255, 376: 256, 377: 257, 378: 258, 379: 259, 380: 260, 381: 147, 382: 261, 383: 261, 384: 262, 385: 148, 386: 148, 387: 263, 388: 264, 389: 148, 390: 148, 391: 148, 392: 148, 393: 265, 394: 265, 395: 266, 396: 267, 397: 268, 398: 160, 399: 160, 400: 269, 401: 270, 402: 271, 403: 272, 404: 269, 405: 272, 406: 269, 407: 273, 408: 269, 409: 274, 410: 275, 411: 276, 412: 277, 413: 278, 414: 279, 415: 280, 416: 281, 417: 282, 418: 283, 419: 284, 420: 285, 421: 274, 422: 286, 423: 287, 424: 288, 425: 289, 426: 290, 427: 291, 428: 290, 429: 292, 430: 293, 431: 294, 432: 294, 433: 295, 434: 296, 435: 297, 436: 298, 437: 299, 438: 300, 439: 301, 440: 302, 441: 298, 442: 276, 443: 303, 444: 304, 445: 305, 446: 306, 447: 307, 448: 308, 449: 309, 450: 310, 451: 311, 452: 312, 453: 313, 454: 314, 455: 315, 456: 316, 457: 317, 458: 318, 459: 314, 460: 314, 461: 319, 462: 314, 463: 314, 464: 320, 465: 321, 466: 322, 467: 323, 468: 324, 469: 325, 470: 269, 471: 326, 472: 327, 473: 328, 474: 329, 475: 269, 476: 330, 477: 331, 478: 332, 479: 333, 480: 334, 481: 333, 482: 335, 483: 336, 484: 274, 485: 337, 486: 338, 487: 339, 488: 340, 489: 340, 490: 341, 491: 342, 492: 343, 493: 344, 494: 345, 495: 346, 496: 347, 497: 348, 498: 313, 499: 349, 500: 350, 501: 351, 502: 276, 503: 352, 504: 353, 505: 276, 506: 276, 507: 354, 508: 355, 509: 355, 510: 356, 511: 357, 512: 325, 513: 325, 514: 358, 515: 359, 516: 360, 517: 361, 518: 362, 519: 363, 520: 364, 521: 365, 522: 366, 523: 367, 524: 368, 525: 369, 526: 370, 527: 371, 528: 288, 529: 372, 530: 373, 531: 374, 532: 1, 533: 301, 534: 301, 535: 292, 536: 280, 537: 280, 538: 280, 539: 375, 540: 376, 541: 377, 542: 378, 543: 379, 544: 380, 545: 381, 546: 382, 547: 383, 548: 339, 549: 365, 550: 384, 551: 339, 552: 385, 553: 386, 554: 1, 555: 387, 556: 1, 557: 388, 558: 389, 559: 388, 560: 288, 561: 390, 562: 391, 563: 276, 564: 294, 565: 392, 566: 367, 567: 393, 568: 394, 569: 395, 570: 396, 571: 397, 572: 398, 573: 399, 574: 400, 575: 401, 576: 402, 577: 403, 578: 397, 579: 404, 580: 329, 581: 405, 582: 365, 583: 228, 584: 228, 585: 406, 586: 406, 587: 407, 588: 408, 589: 409, 590: 410, 591: 411, 592: 412, 593: 413, 594: 414, 595: 415, 596: 416, 597: 325, 598: 417, 599: 418}\n"
          ],
          "name": "stdout"
        }
      ]
    },
    {
      "cell_type": "markdown",
      "metadata": {
        "id": "w6LiEVtqdTEL"
      },
      "source": [
        "**Réaliser un  consensus entre les partitions otenues par l'algorithme de louvrai sur les trois graphes de documents**"
      ]
    },
    {
      "cell_type": "code",
      "metadata": {
        "colab": {
          "base_uri": "https://localhost:8080/"
        },
        "id": "70WQoNEPPAim",
        "outputId": "15991037-d1a6-4e9b-d6fb-ee3459e727f8"
      },
      "source": [
        "import numpy as np \n",
        "import Cluster_Ensembles as CE \n",
        "cluster_runs = np.array([list(partition_tit_term.values()),\n",
        "                         list(partition_doc_term.values()),\n",
        "                         list(partition_doc_auth.values()),\n",
        "                         list(partition_doc_citation.values())])\n",
        "print(\"cluster_runs\", cluster_runs) \n",
        "consensus_clustering_labels = CE.cluster_ensembles(cluster_runs, verbose = True, N_clusters_max = 5) \n",
        "print(\"consensus_clustering_labels\", consensus_clustering_labels) "
      ],
      "execution_count": null,
      "outputs": [
        {
          "output_type": "stream",
          "text": [
            "cluster_runs [[  0   1   0 ...   6   6   0]\n",
            " [  0   0   0 ...   5   5   5]\n",
            " [  0   1   2 ... 175 224 175]\n",
            " [  0   1   1 ... 325 417 418]]\n",
            "*****\n",
            "INFO: Cluster_Ensembles: CSPA: consensus clustering using CSPA.\n",
            "\n",
            "#\n",
            "INFO: Cluster_Ensembles: wgraph: writing wgraph_CSPA.\n",
            "#\n",
            "\n",
            "#\n",
            "INFO: Cluster_Ensembles: sgraph: calling gpmetis for graph partitioning.\n",
            "INFO: Cluster_Ensembles: sgraph: (hyper)-graph partitioning completed; loading wgraph_CSPA.part.5\n",
            "#\n",
            "\n",
            "INFO: Cluster_Ensembles: cluster_ensembles: CSPA at 0.4361888357741832.\n",
            "*****\n",
            "\n",
            "*****\n",
            "INFO: Cluster_Ensembles: HGPA: consensus clustering using HGPA.\n",
            "\n",
            "#\n",
            "INFO: Cluster_Ensembles: wgraph: writing wgraph_HGPA.\n",
            "INFO: Cluster_Ensembles: wgraph: 600 vertices and 670 non-zero hyper-edges.\n",
            "#\n",
            "\n",
            "#\n",
            "INFO: Cluster_Ensembles: sgraph: calling shmetis for hypergraph partitioning.\n",
            "INFO: Cluster_Ensembles: sgraph: (hyper)-graph partitioning completed; loading wgraph_HGPA.part.5\n",
            "#\n",
            "\n",
            "INFO: Cluster_Ensembles: cluster_ensembles: HGPA at 0.302949560213323.\n",
            "*****\n",
            "\n",
            "*****\n",
            "INFO: Cluster_Ensembles: MCLA: consensus clustering using MCLA.\n",
            "INFO: Cluster_Ensembles: MCLA: preparing graph for meta-clustering.\n",
            "INFO: Cluster_Ensembles: MCLA: done filling hypergraph adjacency matrix. Starting computation of Jaccard similarity matrix.\n",
            "INFO: Cluster_Ensembles: MCLA: starting computation of Jaccard similarity matrix.\n",
            "INFO: Cluster_Ensembles: MCLA: done computing the matrix of pairwise Jaccard similarity scores.\n",
            "\n",
            "#\n",
            "INFO: Cluster_Ensembles: wgraph: writing wgraph_MCLA.\n",
            "#\n",
            "\n",
            "#\n",
            "INFO: Cluster_Ensembles: sgraph: calling gpmetis for graph partitioning.\n",
            "INFO: Cluster_Ensembles: sgraph: (hyper)-graph partitioning completed; loading wgraph_MCLA.part.5\n",
            "#\n",
            "INFO: Cluster_Ensembles: MCLA: delivering 5 clusters.\n",
            "INFO: Cluster_Ensembles: MCLA: average posterior probability is 0.009776212648747574\n",
            "\n",
            "INFO: Cluster_Ensembles: cluster_ensembles: MCLA at 0.40159602430631103.\n",
            "*****\n",
            "consensus_clustering_labels [4 3 4 3 0 2 4 3 4 3 4 2 4 4 4 4 3 3 3 3 4 3 4 4 3 4 4 1 4 0 4 0 2 3 4 3 0\n",
            " 3 3 4 3 3 3 3 3 3 3 3 3 0 4 4 3 3 4 3 4 4 4 3 3 2 4 3 1 4 3 0 2 4 4 4 4 4\n",
            " 4 4 4 3 4 4 2 4 3 3 4 4 2 3 3 3 4 3 3 1 2 4 4 3 3 0 3 3 3 2 3 3 3 3 3 3 2\n",
            " 1 3 4 4 3 4 3 4 4 3 3 3 3 3 3 3 3 3 3 3 0 0 3 3 0 4 3 3 3 3 0 3 3 3 4 4 2\n",
            " 3 2 3 3 4 3 4 4 3 4 4 3 3 3 4 3 2 0 3 3 4 3 4 3 4 3 3 3 0 3 4 4 3 4 4 3 3\n",
            " 4 4 3 4 4 4 4 4 3 0 3 0 0 3 4 3 3 2 2 4 3 2 2 0 2 2 2 0 0 1 1 4 2 3 4 4 4\n",
            " 4 4 4 2 2 4 2 0 2 3 1 2 4 3 2 4 2 2 2 4 4 4 2 2 2 2 2 2 2 0 2 2 4 2 2 4 2\n",
            " 4 2 3 3 4 4 2 4 4 2 3 4 2 2 2 2 2 4 2 2 3 4 2 2 2 2 4 2 2 2 2 4 2 2 0 2 4\n",
            " 3 2 2 2 2 2 2 1 3 0 1 2 0 0 2 3 3 2 2 4 4 3 3 2 4 4 4 1 2 4 4 2 2 0 2 4 0\n",
            " 3 2 4 3 2 0 0 2 2 2 4 0 4 0 2 0 4 4 2 0 4 2 2 2 2 4 3 2 2 1 2 2 2 2 2 2 2\n",
            " 2 0 2 4 4 4 2 2 4 4 2 3 2 3 2 2 2 4 3 2 2 2 2 4 2 2 0 1 4 4 1 1 0 3 1 3 1\n",
            " 1 1 1 1 0 0 1 1 0 1 1 0 0 0 1 1 1 1 1 1 0 1 1 1 0 0 0 0 0 0 0 1 0 1 0 0 0\n",
            " 1 0 1 0 0 0 0 1 1 1 1 0 1 0 1 1 1 1 1 1 0 0 1 1 1 1 1 0 2 0 0 1 1 1 1 1 0\n",
            " 1 0 1 1 1 1 1 1 1 0 0 0 0 0 1 0 0 1 3 0 1 1 0 0 0 1 0 0 0 1 1 1 1 1 0 1 1\n",
            " 1 0 1 1 0 0 1 0 0 0 1 0 1 1 2 0 0 0 1 1 0 1 1 1 0 0 0 2 1 1 1 1 1 1 0 1 1\n",
            " 1 1 1 0 1 1 3 0 0 1 1 0 0 0 1 1 1 1 1 1 1 0 1 1 1 1 1 0 0 0 1 0 0 0 0 0 0\n",
            " 3 1 0 1 1 1 1 0]\n"
          ],
          "name": "stdout"
        }
      ]
    },
    {
      "cell_type": "code",
      "metadata": {
        "id": "CTas61N3Vw8Z",
        "colab": {
          "base_uri": "https://localhost:8080/"
        },
        "outputId": "9b81d463-f510-4f2e-9cee-a33dd0b72518"
      },
      "source": [
        "# Enregistrer les résultats sous format CSV\n",
        "clust_abstract=partition_doc_term.values()\n",
        "clust_title=partition_tit_term.values()\n",
        "clust_authors=partition_doc_auth.values()\n",
        "clust_citation=partition_doc_citation.values()\n",
        "list_ID=matrice['ID']\n",
        "Cluster_dataframe =pd.DataFrame(\n",
        "    {'ID': list_ID,\n",
        "     'Clust_Abstract': clust_abstract,\n",
        "     'Clust_Title': clust_title,\n",
        "     'Clust_Authors': clust_authors,\n",
        "     'Clust_Citation': clust_citation,\n",
        "     'Consensus':consensus_clustering_labels,\n",
        "        })\n",
        "print(Cluster_dataframe)"
      ],
      "execution_count": null,
      "outputs": [
        {
          "output_type": "stream",
          "text": [
            "         ID  Clust_Abstract  ...  Clust_Citation  Consensus\n",
            "0    594377               0  ...               0          4\n",
            "1    594378               0  ...               1          3\n",
            "2    594379               0  ...               1          4\n",
            "3    594381               0  ...               2          3\n",
            "4    594383               1  ...               3          0\n",
            "..      ...             ...  ...             ...        ...\n",
            "595  621461               5  ...             415          1\n",
            "596  621463               5  ...             416          1\n",
            "597  621464               5  ...             325          1\n",
            "598  621465               5  ...             417          1\n",
            "599  621468               5  ...             418          0\n",
            "\n",
            "[600 rows x 6 columns]\n"
          ],
          "name": "stdout"
        }
      ]
    },
    {
      "cell_type": "code",
      "metadata": {
        "id": "9B3T1RJxaXSu"
      },
      "source": [
        "# charger sous format csv\n",
        "Cluster_dataframe.to_csv(\n",
        "path_or_buf=\"/content/drive/My Drive/Colab Notebooks/Cluster_dataframe_csv.csv\"\n",
        ",index=False, sep='\\t')\n"
      ],
      "execution_count": null,
      "outputs": []
    },
    {
      "cell_type": "markdown",
      "metadata": {
        "id": "wDqQxIm3eJFY"
      },
      "source": [
        " **Analyse des communauté**"
      ]
    },
    {
      "cell_type": "markdown",
      "metadata": {
        "id": "Ft0qHF_EcUut"
      },
      "source": [
        "**Construire les matrices thematique- authors thematique termes pour faire Le vecteur centre (moyen) pour chaque cluster**"
      ]
    },
    {
      "cell_type": "code",
      "metadata": {
        "id": "yXPUzxPLwf9D"
      },
      "source": [
        "matrice_partition_Z = np.zeros((len(matrice), int(len(set(consensus_clustering_labels)))))"
      ],
      "execution_count": null,
      "outputs": []
    },
    {
      "cell_type": "code",
      "metadata": {
        "colab": {
          "base_uri": "https://localhost:8080/"
        },
        "id": "FOXHLcllwitV",
        "outputId": "4040eeb8-3eca-4d95-e9aa-8b86be63db92"
      },
      "source": [
        "for i, x in enumerate(consensus_clustering_labels):\n",
        "  matrice_partition_Z[i,x] = 1\n",
        "print(\"matrice_partition_Z\",matrice_partition_Z)"
      ],
      "execution_count": null,
      "outputs": [
        {
          "output_type": "stream",
          "text": [
            "matrice_partition_Z [[0. 0. 0. 0. 1.]\n",
            " [0. 0. 0. 1. 0.]\n",
            " [0. 0. 0. 0. 1.]\n",
            " ...\n",
            " [0. 1. 0. 0. 0.]\n",
            " [0. 1. 0. 0. 0.]\n",
            " [1. 0. 0. 0. 0.]]\n"
          ],
          "name": "stdout"
        }
      ]
    },
    {
      "cell_type": "code",
      "metadata": {
        "colab": {
          "base_uri": "https://localhost:8080/"
        },
        "id": "XywgpIHtwlFe",
        "outputId": "7499e9b5-087e-4e22-a25f-08959a84bd86"
      },
      "source": [
        "thematique_termes_abstract = matrice_partition_Z.transpose().dot(matrice_doc_terms2)\n",
        "print(\"thematique_termes_abstract\",thematique_termes_abstract)\n",
        "thematique_termes_title = matrice_partition_Z.transpose().dot(matrice_title_terms2)\n",
        "print(\"thematique_termes_title\",thematique_termes_title)\n",
        "thematique_authors = matrice_partition_Z.transpose().dot(matrice_doc_authors)\n",
        "print(\"thematique_termes_authors\",thematique_termes_authors)"
      ],
      "execution_count": null,
      "outputs": [
        {
          "output_type": "stream",
          "text": [
            "thematique_termes_abstract [[ 1.  6.  8. ...  3.  4. 13.]\n",
            " [ 1.  2. 11. ...  6.  9.  6.]\n",
            " [ 9. 12. 37. ...  5.  3.  1.]\n",
            " [ 8.  2. 19. ...  1.  5.  0.]\n",
            " [ 7.  5.  9. ...  2.  3.  0.]]\n",
            "thematique_termes_title [[0. 9. 0. ... 0. 0. 1.]\n",
            " [0. 1. 0. ... 0. 0. 0.]\n",
            " [0. 0. 4. ... 0. 0. 0.]\n",
            " [1. 0. 2. ... 0. 0. 0.]\n",
            " [0. 0. 1. ... 1. 3. 0.]]\n",
            "thematique_termes_authors [[0. 0. 0. ... 1. 0. 0.]\n",
            " [0. 0. 0. ... 0. 1. 1.]\n",
            " [0. 1. 0. ... 0. 0. 0.]\n",
            " [1. 3. 1. ... 0. 0. 0.]\n",
            " [0. 0. 0. ... 0. 0. 0.]]\n"
          ],
          "name": "stdout"
        }
      ]
    },
    {
      "cell_type": "code",
      "metadata": {
        "colab": {
          "base_uri": "https://localhost:8080/"
        },
        "id": "zc-XJnjozF9x",
        "outputId": "46e5423b-d50e-424a-bb24-f93c469025dc"
      },
      "source": [
        "index=pd.DataFrame([0,1,2,3,4])\n",
        "thematique_termes_abstract=pd.DataFrame(data=thematique_termes_abstract, columns=abstract)\n",
        "print(\"1er \",thematique_termes_abstract)\n",
        "thematique_termes_abstract=pd.concat([thematique_termes_abstract, index], axis = 1)\n",
        "\n",
        "thematique_termes_title=pd.DataFrame(data=thematique_termes_title, columns=title)\n",
        "print(\"2er \",thematique_termes_title)\n",
        "thematique_termes_title=pd.concat([thematique_termes_title, index], axis = 1)\n",
        "\n",
        "thematique_authors=pd.DataFrame(data=thematique_authors, columns=all_authors)\n",
        "print(\"3er \",thematique_authors)\n",
        "thematique_authors=pd.concat([thematique_authors, index], axis = 1)"
      ],
      "execution_count": null,
      "outputs": [
        {
          "output_type": "stream",
          "text": [
            "1er     ability  able  access  according  accuracy  ...  xquery  year  yet  yield  zero\n",
            "0      1.0   6.0     8.0        4.0       3.0  ...     0.0   5.0  3.0    4.0  13.0\n",
            "1      1.0   2.0    11.0        3.0       2.0  ...     0.0   4.0  6.0    9.0   6.0\n",
            "2      9.0  12.0    37.0        4.0      11.0  ...     6.0   7.0  5.0    3.0   1.0\n",
            "3      8.0   2.0    19.0        2.0       5.0  ...     0.0   3.0  1.0    5.0   0.0\n",
            "4      7.0   5.0     9.0        1.0       7.0  ...    19.0   3.0  2.0    3.0   0.0\n",
            "\n",
            "[5 rows x 1000 columns]\n",
            "1er     absence  abstract  access  across  ...  xmlbased  xqbe  xquery  yellowpager\n",
            "0      0.0       9.0     0.0     0.0  ...       0.0   0.0     0.0          1.0\n",
            "1      0.0       1.0     0.0     0.0  ...       0.0   0.0     0.0          0.0\n",
            "2      0.0       0.0     4.0     1.0  ...       0.0   0.0     0.0          0.0\n",
            "3      1.0       0.0     2.0     0.0  ...       0.0   0.0     0.0          0.0\n",
            "4      0.0       0.0     1.0     1.0  ...       1.0   1.0     3.0          0.0\n",
            "\n",
            "[5 rows x 1000 columns]\n",
            "1er     krisztian balog  leif azzopardi  ...  elan pavlov  vinod vaikuntanathan\n",
            "0              0.0             0.0  ...          1.0                   1.0\n",
            "1              0.0             0.0  ...          0.0                   0.0\n",
            "2              0.0             0.0  ...          0.0                   0.0\n",
            "3              0.0             2.0  ...          0.0                   0.0\n",
            "4              1.0             2.0  ...          0.0                   0.0\n",
            "\n",
            "[5 rows x 1121 columns]\n"
          ],
          "name": "stdout"
        }
      ]
    },
    {
      "cell_type": "markdown",
      "metadata": {
        "id": "vY5CEZ7l980c"
      },
      "source": [
        "**Générer les fichiers CSV pour ces tableaux de données thematique abstract et authors**"
      ]
    },
    {
      "cell_type": "code",
      "metadata": {
        "id": "Kd2czFVgxnDH"
      },
      "source": [
        "thematique_termes_abstract.to_csv(path_or_buf=\"/content/drive/My Drive/Colab Notebooks/thematique_termes_abstract.csv\",index=False, sep='\\t')\n",
        "thematique_termes_title.to_csv(path_or_buf=\"/content/drive/My Drive/Colab Notebooks/thematique_termes_title.csv\",index=False, sep='\\t')\n",
        "thematique_authors.to_csv(path_or_buf=\"/content/drive/My Drive/Colab Notebooks/thematique_authors.csv\",index=False, sep='\\t')"
      ],
      "execution_count": null,
      "outputs": []
    },
    {
      "cell_type": "markdown",
      "metadata": {
        "id": "8_WetIXlcHSI"
      },
      "source": [
        "**les figures de graphes obtenus par la détection de communautés.**"
      ]
    },
    {
      "cell_type": "code",
      "metadata": {
        "colab": {
          "base_uri": "https://localhost:8080/",
          "height": 1000
        },
        "id": "HXpjyBPK4NjY",
        "outputId": "cfae46e5-713b-4c81-bf37-de8464cf353b"
      },
      "source": [
        "# Affichage du gaphe abstract\n",
        "nx.draw(g_non_orient_abstract)\n",
        "plt.title(\"Graphe non-orienté abstract\") \n",
        "plt.show()\n",
        "plt.savefig(\"/content/drive/My Drive/Colab Notebooks/abstract.png\")\n",
        "\n",
        "# Affichage du gaphe title \n",
        "nx.draw(g_non_orient_title)\n",
        "plt.title(\"Graphe non-orienté title\") \n",
        "plt.show()\n",
        "\n",
        "# Affichage du gaphe author\n",
        "nx.draw(g_non_orient_author)\n",
        "plt.title(\"Graphe non-orienté author\") \n",
        "plt.show()\n",
        "\n",
        "# Affichage du gaphe citation\n",
        "nx.draw(g_non_orient_citation)\n",
        "plt.title(\"Graphe non-orienté citation\") \n",
        "plt.show()\n",
        "\n"
      ],
      "execution_count": null,
      "outputs": [
        {
          "output_type": "display_data",
          "data": {
            "image/png": "[encoded data removed]",
            "text/plain": [
              "<Figure size 432x288 with 1 Axes>"
            ]
          },
          "metadata": {
            "tags": []
          }
        },
        {
          "output_type": "display_data",
          "data": {
            "image/png": "[encoded data removed]",
            "text/plain": [
              "<Figure size 432x288 with 1 Axes>"
            ]
          },
          "metadata": {
            "tags": []
          }
        },
        {
          "output_type": "display_data",
          "data": {
            "image/png": "[encoded data removed]",
            "text/plain": [
              "<Figure size 432x288 with 1 Axes>"
            ]
          },
          "metadata": {
            "tags": []
          }
        },
        {
          "output_type": "display_data",
          "data": {
            "image/png": "[encoded data removed]",
            "text/plain": [
              "<Figure size 432x288 with 1 Axes>"
            ]
          },
          "metadata": {
            "tags": []
          }
        }
      ]
    }
  ]
}